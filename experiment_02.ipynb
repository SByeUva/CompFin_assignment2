{
 "cells": [
  {
   "cell_type": "code",
   "execution_count": 1,
   "id": "a8f02b40",
   "metadata": {},
   "outputs": [],
   "source": [
    "import numpy as np\n",
    "from numba import jit\n",
    "import time\n",
    "import matplotlib.pyplot as plt\n",
    "from joblib import Parallel, delayed\n",
    "import math\n",
    "from scipy.stats import norm"
   ]
  },
  {
   "cell_type": "markdown",
   "id": "8fc452c1",
   "metadata": {},
   "source": [
    "## Part II: Estimation of Sensitivities in MC"
   ]
  },
  {
   "cell_type": "code",
   "execution_count": 2,
   "id": "f4c17f4e",
   "metadata": {},
   "outputs": [],
   "source": [
    "def Delta_Analytical_Call(S, K, r, sigma, tau):\n",
    "    d1 = (math.log(S/K) + (r + 0.5 * sigma**2) * tau) / (sigma * math.sqrt(tau))\n",
    "    return norm.cdf(d1)\n",
    "\n",
    "def Delta_Analytical_Put(S, K, r, sigma, tau):\n",
    "    d1 = (math.log(S/K) + (r + 0.5 * sigma**2) * tau) / (sigma * math.sqrt(tau))\n",
    "    return norm.cdf(d1) - math.e**-r"
   ]
  },
  {
   "cell_type": "code",
   "execution_count": 6,
   "id": "4f93c1a1",
   "metadata": {},
   "outputs": [],
   "source": [
    "@jit(nopython=True, fastmath=True, parallel=True)\n",
    "def European_Put(T, K, r, S, sigma, trials):\n",
    "    '''\n",
    "    This function calculates the value of an European Put option\n",
    "    Arguments: maturity, strike price, interest rate, stock price, volaility, number of trials\n",
    "    Returns: Array of size trial with values of european puts\n",
    "    '''\n",
    "    \n",
    "    S_adjust = S * np.exp(r - (0.5 * sigma**2)*T)\n",
    "    payoff_array = np.zeros(trials)\n",
    "    \n",
    "    for i in range(trials):\n",
    "        S_cur = S_adjust * np.exp(sigma*np.sqrt(T)*np.random.normal())\n",
    "        \n",
    "        if K-S_cur > 0:\n",
    "            payoff_array[i] = (K-S_cur)*np.exp(-r*T)\n",
    "        else:\n",
    "            payoff_array[i] = 0\n",
    "\n",
    "    return payoff_array\n",
    "\n",
    "\n",
    "@jit(nopython=True, fastmath=True, parallel=True)\n",
    "def European_Call(T, K, r, S, sigma, trials):\n",
    "    '''\n",
    "    This function calculates the value of an European Put option\n",
    "    Arguments: maturity, strike price, interest rate, stock price, volaility, number of trials\n",
    "    Returns: Array of size trial with values of european puts\n",
    "    '''\n",
    "    \n",
    "    S_adjust = S * np.exp(r - (0.5 * sigma**2)*T)\n",
    "    payoff_array = np.zeros(trials)\n",
    "    \n",
    "    for i in range(trials):\n",
    "        S_cur = S_adjust * np.exp(sigma*np.sqrt(T)*np.random.normal())\n",
    "        \n",
    "        if S_cur-K > 0:\n",
    "            payoff_array[i] = (S_cur-K)*np.exp(-r*T)\n",
    "        else:\n",
    "            payoff_array[i] = 0\n",
    "\n",
    "    return payoff_array\n",
    "\n",
    "\n",
    "@jit(nopython=True, fastmath=True, parallel=True)\n",
    "def Digital_Call(T, K, r, S, sigma, trials):\n",
    "    \n",
    "    S_adjust = S * np.exp(r - (0.5 * sigma**2)*T)\n",
    "    payoff_array = np.zeros(trials)\n",
    "    \n",
    "    for i in range(trials):\n",
    "        S_cur = S_adjust * np.exp(sigma*np.sqrt(T)*np.random.normal())\n",
    "        \n",
    "        if S_cur > K:\n",
    "            payoff_array[i] = 1 * math.e**(-r*T)\n",
    "        else:\n",
    "            payoff_array[i] = 0\n",
    "\n",
    "    return payoff_array\n",
    "    \n",
    "\n",
    "def get_delta_put(kwargs, S, e, seed=None):\n",
    "    if seed:\n",
    "        np.random.seed(seed)\n",
    "    kwargs['S'] = S\n",
    "    V = European_Put(**kwargs)\n",
    "    \n",
    "    \n",
    "    kwargs['S'] = S + e\n",
    "    if seed:\n",
    "        np.random.seed(seed)\n",
    "    Ve = European_Put(**kwargs)\n",
    "    \n",
    "    return (Ve-V)/ e\n",
    "\n",
    "\n",
    "def get_delta_call(kwargs, S, e, seed=None):\n",
    "    if seed:\n",
    "        np.random.seed(seed)\n",
    "        \n",
    "    kwargs['S'] = S\n",
    "    V = European_Call(**kwargs)\n",
    "    \n",
    "    \n",
    "    kwargs['S'] = S + e\n",
    "    if seed:\n",
    "        np.random.seed(seed)\n",
    "    Ve = European_Call(**kwargs)\n",
    "    \n",
    "    return (Ve-V)/ e\n",
    "\n",
    "\n",
    "def get_delta_digital(kwargs, S, e, seed=None):\n",
    "    if seed:\n",
    "        #print(\"im here\")\n",
    "        np.random.seed(seed)\n",
    "        \n",
    "    kwargs['S'] = S\n",
    "    V = Digital_Call(**kwargs)\n",
    "    \n",
    "    \n",
    "    kwargs['S'] = S + e\n",
    "    if seed:\n",
    "        np.random.seed(seed)\n",
    "    Ve = Digital_Call(**kwargs)\n",
    "    \n",
    "    return (Ve-V)/ e"
   ]
  },
  {
   "cell_type": "code",
   "execution_count": 14,
   "id": "aa7cb2ac",
   "metadata": {},
   "outputs": [
    {
     "data": {
      "text/plain": [
       "0.6737355117348961"
      ]
     },
     "execution_count": 14,
     "metadata": {},
     "output_type": "execute_result"
    }
   ],
   "source": [
    "analytical = Delta_Analytical_Call(100, 99, 0.06, 0.2, 1)\n",
    "analytical"
   ]
  },
  {
   "cell_type": "code",
   "execution_count": 7,
   "id": "68311f72",
   "metadata": {},
   "outputs": [],
   "source": [
    "kwargs = {}\n",
    "kwargs['T'] = 1\n",
    "kwargs['K'] = 99\n",
    "kwargs['r'] = 0.06\n",
    "kwargs['sigma'] = 0.2\n",
    "kwargs['trials'] = 10**6"
   ]
  },
  {
   "cell_type": "code",
   "execution_count": 9,
   "id": "6826b652",
   "metadata": {},
   "outputs": [],
   "source": [
    "S = 100\n",
    "e = 0.02\n",
    "\n",
    "delta_matrix_noseeds = [get_delta_call(kwargs, S, e, None) for x in range(100)]\n",
    "delta_matrix_seeds = [get_delta_call(kwargs, S, e, 100) for x in range(100)]"
   ]
  },
  {
   "cell_type": "code",
   "execution_count": 10,
   "id": "38e0b9ae",
   "metadata": {},
   "outputs": [
    {
     "data": {
      "text/plain": [
       "0.6566792376718549"
      ]
     },
     "execution_count": 10,
     "metadata": {},
     "output_type": "execute_result"
    }
   ],
   "source": [
    "np.mean(delta_matrix_seeds)"
   ]
  },
  {
   "cell_type": "code",
   "execution_count": 11,
   "id": "2cf28043",
   "metadata": {},
   "outputs": [
    {
     "data": {
      "text/plain": [
       "0.10821337993717059"
      ]
     },
     "execution_count": 11,
     "metadata": {},
     "output_type": "execute_result"
    }
   ],
   "source": [
    "np.std(delta_matrix_seeds) / np.sqrt(len(delta_matrix_seeds[0]) * len(delta_matrix_seeds))"
   ]
  },
  {
   "cell_type": "code",
   "execution_count": 12,
   "id": "bea8171c",
   "metadata": {},
   "outputs": [
    {
     "data": {
      "text/plain": [
       "0.7517803621832106"
      ]
     },
     "execution_count": 12,
     "metadata": {},
     "output_type": "execute_result"
    }
   ],
   "source": [
    "np.mean(delta_matrix_noseeds)"
   ]
  },
  {
   "cell_type": "code",
   "execution_count": null,
   "id": "3a26d082",
   "metadata": {},
   "outputs": [],
   "source": [
    "diff = np.zeros(len(delta_matrix_seeds))\n",
    "for i, delta in enumerate(delta_matrix_seeds):\n",
    "    diff[i] = abs(analytical - np.mean(delta))"
   ]
  },
  {
   "cell_type": "code",
   "execution_count": null,
   "id": "664d191b",
   "metadata": {},
   "outputs": [],
   "source": [
    "np.mean(diff)"
   ]
  },
  {
   "cell_type": "code",
   "execution_count": null,
   "id": "85afd885",
   "metadata": {},
   "outputs": [],
   "source": [
    "np.mean(delta_matrix_noseeds)"
   ]
  },
  {
   "cell_type": "code",
   "execution_count": 13,
   "id": "b0e95c2b",
   "metadata": {},
   "outputs": [
    {
     "data": {
      "text/plain": [
       "0.10821995287370935"
      ]
     },
     "execution_count": 13,
     "metadata": {},
     "output_type": "execute_result"
    }
   ],
   "source": [
    "np.std(delta_matrix_noseeds) / np.sqrt(len(delta_matrix_noseeds[0]) * len(delta_matrix_noseeds))"
   ]
  },
  {
   "cell_type": "code",
   "execution_count": null,
   "id": "93efc6da",
   "metadata": {},
   "outputs": [],
   "source": [
    "S = 100\n",
    "e = 1\n",
    "delta_matrix = [get_delta_digital(kwargs, S, e, 40) for x in range(100)]"
   ]
  },
  {
   "cell_type": "code",
   "execution_count": null,
   "id": "083c302a",
   "metadata": {},
   "outputs": [],
   "source": [
    "np.mean(delta_matrix)"
   ]
  }
 ],
 "metadata": {
  "kernelspec": {
   "display_name": "Python 3",
   "language": "python",
   "name": "python3"
  },
  "language_info": {
   "codemirror_mode": {
    "name": "ipython",
    "version": 3
   },
   "file_extension": ".py",
   "mimetype": "text/x-python",
   "name": "python",
   "nbconvert_exporter": "python",
   "pygments_lexer": "ipython3",
   "version": "3.9.2"
  }
 },
 "nbformat": 4,
 "nbformat_minor": 5
}
