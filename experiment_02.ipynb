{
 "cells": [
  {
   "cell_type": "code",
   "execution_count": 1,
   "id": "a8f02b40",
   "metadata": {},
   "outputs": [],
   "source": [
    "import numpy as np\n",
    "from numba import jit\n",
    "import time\n",
    "import matplotlib.pyplot as plt\n",
    "from joblib import Parallel, delayed\n",
    "import math\n",
    "from scipy.stats import norm"
   ]
  },
  {
   "cell_type": "markdown",
   "id": "8fc452c1",
   "metadata": {},
   "source": [
    "## Part II: Estimation of Sensitivities in MC"
   ]
  },
  {
   "cell_type": "code",
   "execution_count": 2,
   "id": "f4c17f4e",
   "metadata": {},
   "outputs": [],
   "source": [
    "def Delta_Analytical_Call(S, K, r, sigma, tau):\n",
    "    d1 = (math.log(S/K) + (r + 0.5 * sigma**2) * tau) / (sigma * math.sqrt(tau))\n",
    "    return norm.cdf(d1)\n",
    "\n",
    "def Delta_Analytical_Put(S, K, r, sigma, tau):\n",
    "    d1 = (math.log(S/K) + (r + 0.5 * sigma**2) * tau) / (sigma * math.sqrt(tau))\n",
    "    return norm.cdf(d1) - math.e**-r"
   ]
  },
  {
   "cell_type": "code",
   "execution_count": 14,
   "id": "8d63709f",
   "metadata": {},
   "outputs": [],
   "source": [
    "@jit(nopython=True, fastmath=True, parallel=False)\n",
    "def European_Call(T, K, r, S, sigma, trials, z):\n",
    "    '''\n",
    "    This function calculates the value of an European Call option\n",
    "    Arguments: maturity, strike price, interest rate, stock price, volaility, number of trials\n",
    "    Returns: Array of size trial with values of european puts\n",
    "    '''\n",
    "    \n",
    "    S_adjust = S * np.exp(r - (0.5 * sigma**2)*T)\n",
    "    payoff_array = np.zeros(trials)\n",
    "\n",
    "    for i in range(trials):\n",
    "        S_cur = S_adjust * np.exp(sigma*np.sqrt(T)*z[i])\n",
    "        \n",
    "        if S_cur-K > 0:\n",
    "            payoff_array[i] = (S_cur-K)*np.exp(-r*T)\n",
    "        else:\n",
    "            payoff_array[i] = 0\n",
    "\n",
    "    return payoff_array\n",
    "\n",
    "\n",
    "@jit(nopython=True, fastmath=True, parallel=True)\n",
    "def Digital_Call(T, K, r, S, sigma, trials):\n",
    "    \n",
    "    S_adjust = S * np.exp(r - (0.5 * sigma**2)*T)\n",
    "    payoff_array = np.zeros(trials)\n",
    "    \n",
    "    for i in range(trials):\n",
    "        S_cur = S_adjust * np.exp(sigma*np.sqrt(T)*np.random.normal())\n",
    "        \n",
    "        if S_cur > K:\n",
    "            payoff_array[i] = 1 * math.e**(-r*T)\n",
    "        else:\n",
    "            payoff_array[i] = 0\n",
    "\n",
    "    return payoff_array"
   ]
  },
  {
   "cell_type": "code",
   "execution_count": 15,
   "id": "4f93c1a1",
   "metadata": {},
   "outputs": [],
   "source": [
    "def get_delta_call(kwargs, S, e, seed=None):\n",
    "    z=np.zeros(kwargs['trials'])\n",
    "    for i in range(kwargs['trials']):\n",
    "        z[i] = np.random.normal()\n",
    "        \n",
    "    kwargs['z'] = z   \n",
    "    kwargs['S'] = S\n",
    "    \n",
    "    V = European_Call(**kwargs)\n",
    "    \n",
    "    if not seed:\n",
    "        z[i] = np.random.normal()\n",
    "    kwargs['S'] = S + e\n",
    "    kwargs['z'] = z   \n",
    "    \n",
    "    Ve = European_Call(**kwargs)\n",
    "    \n",
    "    return (Ve-V)/ e\n",
    "\n",
    "\n",
    "def get_delta_digital(kwargs, S, e, seed=None):\n",
    "    if seed:\n",
    "        #print(\"im here\")\n",
    "        np.random.seed(seed)\n",
    "        \n",
    "    kwargs['S'] = S\n",
    "    V = Digital_Call(**kwargs)\n",
    "    \n",
    "    \n",
    "    kwargs['S'] = S + e\n",
    "    if seed:\n",
    "        np.random.seed(seed)\n",
    "    Ve = Digital_Call(**kwargs)\n",
    "    \n",
    "    return (Ve-V)/ e"
   ]
  },
  {
   "cell_type": "code",
   "execution_count": 16,
   "id": "aa7cb2ac",
   "metadata": {},
   "outputs": [
    {
     "data": {
      "text/plain": [
       "0.6737355117348961"
      ]
     },
     "execution_count": 16,
     "metadata": {},
     "output_type": "execute_result"
    }
   ],
   "source": [
    "analytical = Delta_Analytical_Call(100, 99, 0.06, 0.2, 1)\n",
    "analytical"
   ]
  },
  {
   "cell_type": "code",
   "execution_count": 17,
   "id": "68311f72",
   "metadata": {},
   "outputs": [],
   "source": [
    "kwargs = {}\n",
    "kwargs['T'] = 1\n",
    "kwargs['K'] = 99\n",
    "kwargs['r'] = 0.06\n",
    "kwargs['sigma'] = 0.2\n",
    "kwargs['trials'] = 10**4"
   ]
  },
  {
   "cell_type": "code",
   "execution_count": 18,
   "id": "6826b652",
   "metadata": {},
   "outputs": [],
   "source": [
    "S = 100\n",
    "e = .02\n",
    "\n",
    "delta_matrix_noseeds = [get_delta_call(kwargs, S, e, None) for x in range(100)]\n",
    "delta_matrix_seeds = [get_delta_call(kwargs, S, e, 100) for x in range(100)]"
   ]
  },
  {
   "cell_type": "code",
   "execution_count": 19,
   "id": "38e0b9ae",
   "metadata": {},
   "outputs": [
    {
     "data": {
      "text/plain": [
       "0.03204893459916989"
      ]
     },
     "execution_count": 19,
     "metadata": {},
     "output_type": "execute_result"
    }
   ],
   "source": [
    "abs(analytical - np.mean(delta_matrix_seeds)) / analytical * 100"
   ]
  },
  {
   "cell_type": "code",
   "execution_count": 20,
   "id": "c1818f1f",
   "metadata": {},
   "outputs": [
    {
     "data": {
      "text/plain": [
       "0.48376400388814944"
      ]
     },
     "execution_count": 20,
     "metadata": {},
     "output_type": "execute_result"
    }
   ],
   "source": [
    "abs(analytical - np.mean(delta_matrix_noseeds)) / analytical * 100"
   ]
  },
  {
   "cell_type": "code",
   "execution_count": 21,
   "id": "3a26d082",
   "metadata": {},
   "outputs": [],
   "source": [
    "eps = [0.01,0.02,0.5]\n",
    "size = [4,5,6,7]"
   ]
  },
  {
   "cell_type": "code",
   "execution_count": 22,
   "id": "664d191b",
   "metadata": {},
   "outputs": [],
   "source": [
    "seeded = np.matrix(np.zeros(12))\n",
    "seeded.shape = (4,3)\n",
    "\n",
    "unseeded = np.matrix(np.zeros(12))\n",
    "unseeded.shape = (4,3)"
   ]
  },
  {
   "cell_type": "code",
   "execution_count": 23,
   "id": "3ba010b7",
   "metadata": {},
   "outputs": [],
   "source": [
    "for row in range(len(size)):\n",
    "    for column in range(len(eps)):\n",
    "        kwargs['trials'] = 10**size[row]\n",
    "        e = eps[column]\n",
    "        seeded[row,column] = abs(analytical - np.mean(get_delta_call(kwargs, S, e, 100))) / analytical * 100\n",
    "        unseeded[row,column] = abs(analytical - np.mean(get_delta_call(kwargs, S, e,None))) / analytical * 100"
   ]
  },
  {
   "cell_type": "code",
   "execution_count": 24,
   "id": "041ea02d",
   "metadata": {},
   "outputs": [
    {
     "data": {
      "text/plain": [
       "matrix([[7.23387932e+01, 9.32967178e+00, 9.79485580e-01],\n",
       "        [2.03024829e-01, 1.20534633e-01, 7.13947266e-01],\n",
       "        [5.72848366e-01, 3.33950577e-03, 5.88117508e-01],\n",
       "        [4.49916661e-02, 3.76390118e-02, 6.71144189e-01]])"
      ]
     },
     "execution_count": 24,
     "metadata": {},
     "output_type": "execute_result"
    }
   ],
   "source": [
    "unseeded"
   ]
  },
  {
   "cell_type": "code",
   "execution_count": 25,
   "id": "d588ca59",
   "metadata": {},
   "outputs": [
    {
     "data": {
      "text/plain": [
       "matrix([[0.10387494, 0.87137467, 1.23741896],\n",
       "        [0.04198931, 0.40469068, 0.81516082],\n",
       "        [0.05252718, 0.07014692, 0.7303867 ],\n",
       "        [0.03842315, 0.04123337, 0.68228079]])"
      ]
     },
     "execution_count": 25,
     "metadata": {},
     "output_type": "execute_result"
    }
   ],
   "source": [
    "seeded"
   ]
  }
 ],
 "metadata": {
  "kernelspec": {
   "display_name": "Python 3",
   "language": "python",
   "name": "python3"
  },
  "language_info": {
   "codemirror_mode": {
    "name": "ipython",
    "version": 3
   },
   "file_extension": ".py",
   "mimetype": "text/x-python",
   "name": "python",
   "nbconvert_exporter": "python",
   "pygments_lexer": "ipython3",
   "version": "3.9.2"
  }
 },
 "nbformat": 4,
 "nbformat_minor": 5
}
