{
 "cells": [
  {
   "cell_type": "code",
   "execution_count": 314,
   "id": "a8f02b40",
   "metadata": {},
   "outputs": [],
   "source": [
    "import numpy as np\n",
    "from numba import jit\n",
    "import time\n",
    "import matplotlib.pyplot as plt\n",
    "from joblib import Parallel, delayed\n",
    "import math\n",
    "from scipy.stats import norm"
   ]
  },
  {
   "cell_type": "markdown",
   "id": "fe3fda22",
   "metadata": {},
   "source": [
    "## Part II: Estimation of Sensitivities in MC"
   ]
  },
  {
   "cell_type": "code",
   "execution_count": 310,
   "id": "0c1d858a",
   "metadata": {},
   "outputs": [],
   "source": [
    "def Delta_Analytical(S, K, r, sigma, tau):\n",
    "    d1 = (math.log(S/K) + (r + 0.5 * sigma**2) * tau) / (sigma * math.sqrt(tau))\n",
    "    return norm.cdf(d1)"
   ]
  },
  {
   "cell_type": "code",
   "execution_count": 380,
   "id": "3996972d",
   "metadata": {},
   "outputs": [
    {
     "ename": "SyntaxError",
     "evalue": "invalid syntax (<ipython-input-380-a2abfadb33cf>, line 25)",
     "output_type": "error",
     "traceback": [
      "\u001b[1;36m  File \u001b[1;32m\"<ipython-input-380-a2abfadb33cf>\"\u001b[1;36m, line \u001b[1;32m25\u001b[0m\n\u001b[1;33m    Se_cur = Se_adjust * np.exp(sigma*np.sqrt(T)*rand_1\u001b[0m\n\u001b[1;37m    ^\u001b[0m\n\u001b[1;31mSyntaxError\u001b[0m\u001b[1;31m:\u001b[0m invalid syntax\n"
     ]
    }
   ],
   "source": [
    "@jit(nopython=True, parallel=True)\n",
    "def European_Put_Delta(T, K, r, S, sigma, trials, e, seed_target=None):\n",
    "    '''\n",
    "    This function calculates the value of an European Put option\n",
    "    Arguments: maturity, strike price, interest rate, stock price, volaility, number of trials\n",
    "    Returns: Array of size trial with values of european puts\n",
    "    '''\n",
    "    Se = S + e\n",
    "    S_adjust = S * np.exp(r - (0.5 * sigma**2)*T)\n",
    "    Se_adjust = Se * np.exp(r - (0.5 * sigma**2)*T)\n",
    "    \n",
    "    delta_array = np.zeros(trials)\n",
    "    \n",
    "    for i in range(trials):\n",
    "        if seed_target != None:\n",
    "            np.random.seed(seed_target)\n",
    "            rand = np.random.normal()\n",
    "            rand_1 = rand\n",
    "        else:\n",
    "            rand=np.random.normal()\n",
    "            rand_1=np.random.normal()\n",
    "            \n",
    "            \n",
    "        S_cur = S_adjust * np.exp(sigma*np.sqrt(T)*rand\n",
    "        Se_cur = Se_adjust * np.exp(sigma*np.sqrt(T)*rand_1\n",
    "        \n",
    "        if K-S_cur > 0:\n",
    "            payoff = (K-S_cur)*np.exp(-r*T)\n",
    "        else:\n",
    "            payoff = 0\n",
    "            \n",
    "        if K-Se_cur > 0:\n",
    "            payoff_e = (K-Se_cur)*np.exp(-r*T)\n",
    "        else:\n",
    "            payoff_e = 0\n",
    "            \n",
    "        delta_array[i] = (payoff_e - payoff)/e\n",
    "\n",
    "    return delta_array"
   ]
  },
  {
   "cell_type": "code",
   "execution_count": 374,
   "id": "a4348db7",
   "metadata": {},
   "outputs": [],
   "source": [
    "T = 1\n",
    "K = 99\n",
    "r=0.06\n",
    "S=100\n",
    "sigma=0.2\n",
    "trials=10**7\n",
    "e=0.5\n",
    "seed_target=100\n",
    "delta_array = European_Put_Delta(T,K,r,S,sigma,trials,e,seed_target)"
   ]
  },
  {
   "cell_type": "code",
   "execution_count": 375,
   "id": "93c01605",
   "metadata": {},
   "outputs": [
    {
     "data": {
      "text/plain": [
       "0.6382965784784819"
      ]
     },
     "execution_count": 375,
     "metadata": {},
     "output_type": "execute_result"
    }
   ],
   "source": [
    "Delta_Analytical(S, K, r, sigma, 0.5)"
   ]
  }
 ],
 "metadata": {
  "kernelspec": {
   "display_name": "Python 3",
   "language": "python",
   "name": "python3"
  },
  "language_info": {
   "codemirror_mode": {
    "name": "ipython",
    "version": 3
   },
   "file_extension": ".py",
   "mimetype": "text/x-python",
   "name": "python",
   "nbconvert_exporter": "python",
   "pygments_lexer": "ipython3",
   "version": "3.9.2"
  }
 },
 "nbformat": 4,
 "nbformat_minor": 5
}
