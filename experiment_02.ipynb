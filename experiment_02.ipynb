{
 "cells": [
  {
   "cell_type": "code",
   "execution_count": 1,
   "id": "a8f02b40",
   "metadata": {},
   "outputs": [],
   "source": [
    "import numpy as np\n",
    "from numba import jit\n",
    "import time\n",
    "import matplotlib.pyplot as plt\n",
    "from joblib import Parallel, delayed\n",
    "import math\n",
    "from scipy.stats import norm\n",
    "import random\n",
    "from tqdm import tqdm"
   ]
  },
  {
   "cell_type": "markdown",
   "id": "8fc452c1",
   "metadata": {},
   "source": [
    "## Part II: Estimation of Sensitivities in MC"
   ]
  },
  {
   "cell_type": "code",
   "execution_count": 2,
   "id": "f4c17f4e",
   "metadata": {},
   "outputs": [],
   "source": [
    "def Delta_Analytical_Call(S, K, r, sigma, tau):\n",
    "    d1 = (math.log(S/K) + (r + 0.5 * sigma**2) * tau) / (sigma * math.sqrt(tau))\n",
    "    return norm.cdf(d1)\n",
    "\n",
    "def Delta_Analytical_Digital(S, K, r, sigma, tau):\n",
    "    d2 = (math.log(S/K) + (r-0.5*sigma**2)*tau) / (sigma * math.sqrt(tau))\n",
    "    numerator = (math.e**(-r * tau)) * norm.pdf(d2) \n",
    "    denomenator = sigma * S * math.sqrt(tau)\n",
    "    \n",
    "    return numerator/denomenator"
   ]
  },
  {
   "cell_type": "code",
   "execution_count": 3,
   "id": "8d63709f",
   "metadata": {},
   "outputs": [],
   "source": [
    "@jit(nopython=True, fastmath=True, parallel=False)\n",
    "def European_Call(T, K, r, S, sigma, trials, z):\n",
    "    '''\n",
    "    This function calculates the value of an European Call option\n",
    "    Arguments: maturity, strike price, interest rate, stock price, volaility, number of trials\n",
    "    Returns: Array of size trial with values of european puts\n",
    "    '''\n",
    "    \n",
    "    S_adjust = S * np.exp(r - (0.5 * sigma**2)*T)\n",
    "    payoff_array = np.zeros(trials)\n",
    "\n",
    "    for i in range(trials):\n",
    "        S_cur = S_adjust * np.exp(sigma*np.sqrt(T)*z[i])\n",
    "        \n",
    "        if S_cur-K > 0:\n",
    "            payoff_array[i] = (S_cur-K)*np.exp(-r*T)\n",
    "        else:\n",
    "            payoff_array[i] = 0\n",
    "\n",
    "    return np.mean(payoff_array)\n",
    "\n",
    "\n",
    "@jit(nopython=True, fastmath=True, parallel=False)\n",
    "def Digital_Call(T, K, r, S, sigma, trials, z):\n",
    "    \n",
    "    S_adjust = S * np.exp(r - (0.5 * sigma**2)*T)\n",
    "    payoff_array = np.zeros(trials)\n",
    "    \n",
    "    for i in range(trials):\n",
    "        S_cur = S_adjust * np.exp(sigma*np.sqrt(T)*z[i])\n",
    "        \n",
    "        if S_cur > K:\n",
    "            payoff_array[i] = 1 * math.e**(-r*T)\n",
    "        else:\n",
    "            payoff_array[i] = 0\n",
    "\n",
    "    return np.mean(payoff_array)"
   ]
  },
  {
   "cell_type": "code",
   "execution_count": 4,
   "id": "4f93c1a1",
   "metadata": {},
   "outputs": [],
   "source": [
    "def get_delta_call(kwargs, S, e, seed=None):\n",
    "    z=np.zeros(kwargs['trials'])\n",
    "    for i in range(kwargs['trials']):\n",
    "        z[i] = np.random.normal()\n",
    "        \n",
    "    kwargs['z'] = z   \n",
    "    kwargs['S'] = S\n",
    "    \n",
    "    V = European_Call(**kwargs)\n",
    "    \n",
    "    if not seed:\n",
    "        for i in range(kwargs['trials']):\n",
    "            z[i] = random.normalvariate(0, 1)\n",
    "        kwargs['z'] = z   \n",
    "        \n",
    "    kwargs['S'] = S + e\n",
    "    Ve = European_Call(**kwargs)\n",
    "    \n",
    "    return (Ve-V)/ e\n",
    "\n",
    "\n",
    "def get_delta_digital(kwargs, S, e, seed=None):\n",
    "    z=np.zeros(kwargs['trials'])\n",
    "    for i in range(kwargs['trials']):\n",
    "        z[i] = np.random.normal()\n",
    "        \n",
    "    kwargs['z'] = z   \n",
    "    kwargs['S'] = S\n",
    "    \n",
    "    V = Digital_Call(**kwargs)\n",
    "    \n",
    "    if not seed:\n",
    "        for i in range(kwargs['trials']):\n",
    "            z[i] = random.normalvariate(0, 1)\n",
    "        kwargs['z'] = z   \n",
    "        \n",
    "    kwargs['S'] = S + e\n",
    "    \n",
    "    Ve = Digital_Call(**kwargs)\n",
    "    \n",
    "    return (Ve-V)/ e"
   ]
  },
  {
   "cell_type": "code",
   "execution_count": 5,
   "id": "aa7cb2ac",
   "metadata": {},
   "outputs": [
    {
     "data": {
      "text/plain": [
       "0.6737355117348961"
      ]
     },
     "execution_count": 5,
     "metadata": {},
     "output_type": "execute_result"
    }
   ],
   "source": [
    "analytical = Delta_Analytical_Call(100, 99, 0.06, 0.2, 1)\n",
    "analytical"
   ]
  },
  {
   "cell_type": "code",
   "execution_count": 6,
   "id": "68311f72",
   "metadata": {},
   "outputs": [],
   "source": [
    "kwargs = {}\n",
    "kwargs['T'] = 1\n",
    "kwargs['K'] = 99\n",
    "kwargs['r'] = 0.06\n",
    "kwargs['sigma'] = 0.2\n",
    "kwargs['trials'] = 10**4"
   ]
  },
  {
   "cell_type": "code",
   "execution_count": null,
   "id": "6826b652",
   "metadata": {},
   "outputs": [],
   "source": [
    "S = 100\n",
    "e = .02\n",
    "\n",
    "delta_matrix_noseeds = [get_delta_call(kwargs, S, e, None) for x in range(100)]\n",
    "delta_matrix_seeds = [get_delta_call(kwargs, S, e, 100) for x in range(100)]"
   ]
  },
  {
   "cell_type": "code",
   "execution_count": null,
   "id": "38e0b9ae",
   "metadata": {},
   "outputs": [],
   "source": [
    "# Relative error with analytical value as reference\n",
    "rel_error_same_seed = abs(analytical - np.mean(delta_matrix_seeds)) / analytical * 100\n",
    "print(f\"Relative error based on same seed: {rel_error_same_seed}%\")"
   ]
  },
  {
   "cell_type": "code",
   "execution_count": null,
   "id": "e7f2f492",
   "metadata": {},
   "outputs": [],
   "source": [
    "rel_error_random_seed = abs(analytical - np.mean(delta_matrix_noseeds)) / analytical * 100\n",
    "print(f\"Relative error based on random seed: {rel_error_random_seed}%\")"
   ]
  },
  {
   "cell_type": "code",
   "execution_count": null,
   "id": "3a26d082",
   "metadata": {},
   "outputs": [],
   "source": [
    "eps = [0.01,0.02,0.5]\n",
    "size = [4,5,6,7]"
   ]
  },
  {
   "cell_type": "code",
   "execution_count": null,
   "id": "664d191b",
   "metadata": {},
   "outputs": [],
   "source": [
    "seeded = np.matrix(np.zeros(12))\n",
    "seeded.shape = (4,3)\n",
    "\n",
    "unseeded = np.matrix(np.zeros(12))\n",
    "unseeded.shape = (4,3)"
   ]
  },
  {
   "cell_type": "code",
   "execution_count": null,
   "id": "3ba010b7",
   "metadata": {},
   "outputs": [],
   "source": [
    "def get_convergence_matrix(analytical):\n",
    "    for row in range(len(size)):\n",
    "        for column in range(len(eps)):\n",
    "            kwargs['trials'] = 10**size[row]\n",
    "            e = eps[column]\n",
    "            seeded[row,column] = abs(analytical - np.mean(get_delta_call(kwargs, S, e, 100))) / analytical * 100\n",
    "            unseeded[row,column] = abs(analytical - np.mean(get_delta_call(kwargs, S, e,None))) / analytical * 100\n",
    "            \n",
    "    return seeded, unseeded"
   ]
  },
  {
   "cell_type": "markdown",
   "id": "a2f3e763",
   "metadata": {},
   "source": [
    "#### Matrices as in lecture Monte-Carlo II (slides 24 and 26)"
   ]
  },
  {
   "cell_type": "code",
   "execution_count": null,
   "id": "041ea02d",
   "metadata": {},
   "outputs": [],
   "source": [
    "results = Parallel(n_jobs = 12)(delayed(get_convergence_matrix)(analytical) for i in range(12))"
   ]
  },
  {
   "cell_type": "code",
   "execution_count": null,
   "id": "28a2cf67",
   "metadata": {},
   "outputs": [],
   "source": [
    "seeded = []\n",
    "unseeded = []\n",
    "for result in results:\n",
    "    seeded.append(result[0])\n",
    "    unseeded.append(result[1])"
   ]
  },
  {
   "cell_type": "code",
   "execution_count": null,
   "id": "13412a67",
   "metadata": {},
   "outputs": [],
   "source": [
    "all_unseeded = np.matrix(np.zeros(12))\n",
    "all_unseeded.shape = (4,3)\n",
    "\n",
    "all_seeded = np.matrix(np.zeros(12))\n",
    "all_seeded.shape = (4,3)\n",
    "\n",
    "for mat in unseeded:\n",
    "    for row in range(mat.shape[0]):\n",
    "        for column in range(mat.shape[1]):\n",
    "            all_unseeded[row, column] += mat[row, column]\n",
    "            \n",
    "for mat in seeded:\n",
    "    for row in range(mat.shape[0]):\n",
    "        for column in range(mat.shape[1]):\n",
    "            all_seeded[row, column] += mat[row, column]"
   ]
  },
  {
   "cell_type": "code",
   "execution_count": null,
   "id": "a6bdc52d",
   "metadata": {},
   "outputs": [],
   "source": [
    "all_unseeded/12"
   ]
  },
  {
   "cell_type": "code",
   "execution_count": null,
   "id": "d47e8b64",
   "metadata": {},
   "outputs": [],
   "source": [
    "all_seeded/12"
   ]
  },
  {
   "cell_type": "markdown",
   "id": "4cb13375",
   "metadata": {},
   "source": [
    "## Part 2.2"
   ]
  },
  {
   "cell_type": "code",
   "execution_count": 7,
   "id": "2c789505",
   "metadata": {},
   "outputs": [
    {
     "data": {
      "text/plain": [
       "0.018206369779490493"
      ]
     },
     "execution_count": 7,
     "metadata": {},
     "output_type": "execute_result"
    }
   ],
   "source": [
    "# Analytical digital\n",
    "#https://448elmwood.files.wordpress.com/2015/04/study_pricing_digital_call_options1.pdf\n",
    "\n",
    "analytical = Delta_Analytical_Digital(S=100, K=99, r=0.06, sigma=0.2, tau=1); analytical"
   ]
  },
  {
   "cell_type": "code",
   "execution_count": null,
   "id": "f9fa0394",
   "metadata": {
    "scrolled": true
   },
   "outputs": [],
   "source": [
    "kwargs['trials'] = 10**4\n",
    "S=100\n",
    "e = 0.02\n",
    "ans = [get_delta_digital(kwargs, S, e, 100) for x in range(100)]\n",
    "np.mean(ans)"
   ]
  },
  {
   "cell_type": "code",
   "execution_count": null,
   "id": "800b2aaf",
   "metadata": {},
   "outputs": [],
   "source": [
    "digital = np.matrix(np.zeros(12))\n",
    "digital.shape = (4,3)\n",
    "\n",
    "eps = [0.01,0.02,0.5]\n",
    "size = [4,5,6,7]"
   ]
  },
  {
   "cell_type": "code",
   "execution_count": null,
   "id": "a7ce5cc2",
   "metadata": {},
   "outputs": [],
   "source": [
    "def digital_convergence_matrix(analytical):\n",
    "    for row in range(len(size)):\n",
    "        for column in range(len(eps)):\n",
    "            kwargs['trials'] = 10**size[row]\n",
    "            e = eps[column]\n",
    "            digital[row,column] = abs(analytical - get_delta_digital(kwargs, S, e, 100)) / analytical * 100\n",
    "    return digital"
   ]
  },
  {
   "cell_type": "code",
   "execution_count": null,
   "id": "a624875c",
   "metadata": {},
   "outputs": [],
   "source": [
    "results = Parallel(n_jobs = 12)(delayed(digital_convergence_matrix)(analytical) for i in range(12))"
   ]
  },
  {
   "cell_type": "code",
   "execution_count": null,
   "id": "4155459a",
   "metadata": {},
   "outputs": [],
   "source": [
    "all_digital = np.matrix(np.zeros(12))\n",
    "all_digital.shape = (4,3)\n",
    "\n",
    "\n",
    "for mat in results:\n",
    "    for row in range(mat.shape[0]):\n",
    "        for column in range(mat.shape[1]):\n",
    "            all_digital[row, column] += mat[row, column]\n",
    "all_digital = all_digital/12"
   ]
  },
  {
   "cell_type": "code",
   "execution_count": null,
   "id": "a250677f",
   "metadata": {},
   "outputs": [],
   "source": [
    "all_digital"
   ]
  },
  {
   "cell_type": "markdown",
   "id": "7e3fe15b",
   "metadata": {},
   "source": [
    "## Pathwise Method"
   ]
  },
  {
   "cell_type": "code",
   "execution_count": 11,
   "id": "a2c44fb4",
   "metadata": {
    "scrolled": true
   },
   "outputs": [
    {
     "data": {
      "text/plain": [
       "[<matplotlib.lines.Line2D at 0x1ce27c0d550>]"
      ]
     },
     "execution_count": 11,
     "metadata": {},
     "output_type": "execute_result"
    },
    {
     "data": {
      "image/png": "[encoded data removed]",
      "text/plain": [
       "<Figure size 432x288 with 1 Axes>"
      ]
     },
     "metadata": {
      "needs_background": "light"
     },
     "output_type": "display_data"
    }
   ],
   "source": [
    "plt.plot( np.arange(90,110, .1), [norm.cdf(x, loc=kwargs['K'], scale=1) for x in np.arange(90,110, .1)])"
   ]
  },
  {
   "cell_type": "code",
   "execution_count": 12,
   "id": "bd7022bd",
   "metadata": {},
   "outputs": [],
   "source": [
    "@jit(nopython=True, fastmath=True)\n",
    "def Digital_Call_Pathwise(T, K, r, S, sigma, trials, z, sd):\n",
    "    \n",
    "    S_adjust = S * np.exp(r - (0.5 * sigma**2)*T)\n",
    "    delta_array = np.zeros(trials)\n",
    "    \n",
    "    for i in range(trials):\n",
    "        S_cur = S_adjust * np.exp(sigma*np.sqrt(T)*z[i])\n",
    "        chance = 1/(sd * (np.sqrt(2*math.pi))) * math.e**(-0.5*(((S_cur - K)/sd)**2))\n",
    "        delta_array[i] = math.e**(-r) * chance * S_cur/S\n",
    "\n",
    "    return np.mean(delta_array)\n",
    "\n",
    "\n",
    "def get_delta_digital_pathwise(kwargs):\n",
    "    z=np.zeros(kwargs['trials'])\n",
    "    for i in range(kwargs['trials']):\n",
    "        z[i] = np.random.normal()\n",
    "        \n",
    "    kwargs['z'] = z   \n",
    "    \n",
    "    delta = Digital_Call_Pathwise(**kwargs)\n",
    "    \n",
    "    return delta"
   ]
  },
  {
   "cell_type": "code",
   "execution_count": 14,
   "id": "9a06e89c",
   "metadata": {},
   "outputs": [
    {
     "data": {
      "text/plain": [
       "0.01890445732317567"
      ]
     },
     "execution_count": 14,
     "metadata": {},
     "output_type": "execute_result"
    }
   ],
   "source": [
    "kwargs['S'] = 100\n",
    "kwargs['sd'] = 1\n",
    "get_delta_digital_pathwise(kwargs)"
   ]
  },
  {
   "cell_type": "code",
   "execution_count": null,
   "id": "303c6f2e",
   "metadata": {},
   "outputs": [],
   "source": [
    "# test for the best sd in the cdf payoff\n",
    "mean_errors = np.zeros(len(np.arange(.1,5, 0.1)))\n",
    "total_errors = np.zeros(len(np.arange(.1,5, 0.1)))\n",
    "\n",
    "kwargs['trials'] = 10**4\n",
    "for sd in tqdm(np.arange(.1,5, 0.1)):\n",
    "    kwargs['sd'] = sd\n",
    "    ans = [get_delta_digital_pathwise(kwargs) for x in range(100)]\n",
    "    mean_errors[i] = np.mean(abs(analytical - ans) / analytical * 100)\n",
    "    total_errors[i] = abs(analytical - np.mean(ans)) / analytical *100\n",
    "    i+=1"
   ]
  },
  {
   "cell_type": "code",
   "execution_count": null,
   "id": "61f4f5c7",
   "metadata": {},
   "outputs": [],
   "source": [
    "total_errors"
   ]
  },
  {
   "cell_type": "code",
   "execution_count": null,
   "id": "59845ae3",
   "metadata": {},
   "outputs": [],
   "source": [
    "plt.plot(np.arange(.1,5, 0.1), mean_errors)\n",
    "plt.plot(np.arange(.1,5, 0.1), total_errors)"
   ]
  },
  {
   "cell_type": "code",
   "execution_count": null,
   "id": "11df7d42",
   "metadata": {},
   "outputs": [],
   "source": [
    "def pathwise_convergence_matrix(sims, analytical, kwargs):\n",
    "    ans = Parallel(n_jobs = 10)(delayed(get_delta_digital_pathwise)(kwargs) for i in range(sims))\n",
    "    return ans"
   ]
  },
  {
   "cell_type": "code",
   "execution_count": null,
   "id": "aa94a510",
   "metadata": {},
   "outputs": [],
   "source": [
    "kwargs['sd'] = 1\n",
    "sizes = [10**4, 10**5, 10**6, 10**7]\n",
    "experiments = 50\n",
    "results= []\n",
    "i = 0\n",
    "for size in tqdm(sizes):\n",
    "    kwargs['trials'] = size\n",
    "    results.append(pathwise_convergence_matrix(experiments, analytical, kwargs))"
   ]
  },
  {
   "cell_type": "code",
   "execution_count": null,
   "id": "3a3b16a1",
   "metadata": {},
   "outputs": [],
   "source": [
    "textfile = open(\"data/pathwise_results.txt\", \"w\")\n",
    "for element in results:\n",
    "    textfile.write(str(element) + \"\\n\")\n",
    "textfile.close()"
   ]
  },
  {
   "cell_type": "code",
   "execution_count": null,
   "id": "96d7a6c5",
   "metadata": {},
   "outputs": [],
   "source": [
    "ar = np.zeros(3*len(sizes));ar.shape=(len(sizes), 3)"
   ]
  },
  {
   "cell_type": "code",
   "execution_count": null,
   "id": "ecdf08bf",
   "metadata": {},
   "outputs": [],
   "source": [
    "i = 0\n",
    "for result in results:\n",
    "    ar[i][0] = np.mean(result)\n",
    "    ar[i][1] = abs(analytical - np.mean(result)) / analytical *100\n",
    "    ar[i][2] = np.std(result)/np.sqrt(len(result))\n",
    "    i+=1"
   ]
  },
  {
   "cell_type": "code",
   "execution_count": null,
   "id": "47b5cadd",
   "metadata": {},
   "outputs": [],
   "source": [
    "ar"
   ]
  },
  {
   "cell_type": "markdown",
   "id": "8449b5c8",
   "metadata": {},
   "source": [
    "## Likelihood ratio Method for estimating delta in digital options"
   ]
  },
  {
   "cell_type": "code",
   "execution_count": 19,
   "id": "55a6120f",
   "metadata": {},
   "outputs": [],
   "source": [
    "def get_delta_likelihood(kwargs):\n",
    "    S_adjust = kwargs['S'] * np.exp(kwargs['r'] - (0.5 * kwargs['sigma']**2)*kwargs['T'])\n",
    "    delta_array = np.zeros(kwargs['trials'])\n",
    "\n",
    "    for i in range(kwargs['trials']):\n",
    "        Z = np.random.normal()\n",
    "        S_cur = S_adjust * np.exp(kwargs['sigma']*np.sqrt(kwargs['T'])*Z)\n",
    "    \n",
    "        if S_cur > kwargs['K']:\n",
    "            delta_array[i] = math.e**(-1*kwargs['r']) * Z/(kwargs['sigma']*kwargs['S'])\n",
    "        else:\n",
    "            delta_array[i] = 0\n",
    "        \n",
    "    return np.mean(delta_array)\n",
    "\n",
    "def likelihood_convergence_matrix(sims, analytical, kwargs):\n",
    "    ans = Parallel(n_jobs = 10)(delayed(get_delta_likelihood)(kwargs) for i in range(sims))\n",
    "    return ans"
   ]
  },
  {
   "cell_type": "code",
   "execution_count": 20,
   "id": "18b56e21",
   "metadata": {},
   "outputs": [
    {
     "name": "stderr",
     "output_type": "stream",
     "text": [
      "100%|██████████████████████████████████████████████████████████████████████████████████████| 4/4 [08:41<00:00, 130.44s/it]\n"
     ]
    }
   ],
   "source": [
    "sizes = [10**4, 10**5, 10**6, 10**7]\n",
    "experiments = 50\n",
    "results = []\n",
    "for size in tqdm(sizes):\n",
    "    kwargs['trials'] = size\n",
    "    results.append(likelihood_convergence_matrix(experiments, analytical, kwargs))"
   ]
  },
  {
   "cell_type": "code",
   "execution_count": 21,
   "id": "6bac9b6b",
   "metadata": {},
   "outputs": [],
   "source": [
    "textfile = open(\"data/likelihood_results.txt\", \"w\")\n",
    "for element in results:\n",
    "    textfile.write(str(element) + \"\\n\")\n",
    "textfile.close()"
   ]
  },
  {
   "cell_type": "code",
   "execution_count": 23,
   "id": "7e47c94c",
   "metadata": {},
   "outputs": [],
   "source": [
    "ar = np.zeros(3*len(sizes));ar.shape=(len(sizes), 3)"
   ]
  },
  {
   "cell_type": "code",
   "execution_count": 24,
   "id": "01b5172e",
   "metadata": {},
   "outputs": [],
   "source": [
    "i = 0\n",
    "for result in results:\n",
    "    ar[i][0] = np.mean(result)\n",
    "    ar[i][1] = abs(analytical - np.mean(result)) / analytical *100\n",
    "    ar[i][2] = np.std(result)/np.sqrt(len(result))\n",
    "    i+=1"
   ]
  },
  {
   "cell_type": "code",
   "execution_count": 25,
   "id": "57a4e274",
   "metadata": {},
   "outputs": [
    {
     "data": {
      "text/plain": [
       "array([[1.81890834e-02, 9.49469746e-02, 3.88685205e-05],\n",
       "       [1.82204567e-02, 7.73733747e-02, 1.36222170e-05],\n",
       "       [1.82049548e-02, 7.77173932e-03, 3.85597306e-06],\n",
       "       [1.82058553e-02, 2.82557142e-03, 1.01769224e-06]])"
      ]
     },
     "execution_count": 25,
     "metadata": {},
     "output_type": "execute_result"
    }
   ],
   "source": [
    "ar"
   ]
  }
 ],
 "metadata": {
  "kernelspec": {
   "display_name": "Python 3",
   "language": "python",
   "name": "python3"
  },
  "language_info": {
   "codemirror_mode": {
    "name": "ipython",
    "version": 3
   },
   "file_extension": ".py",
   "mimetype": "text/x-python",
   "name": "python",
   "nbconvert_exporter": "python",
   "pygments_lexer": "ipython3",
   "version": "3.9.2"
  }
 },
 "nbformat": 4,
 "nbformat_minor": 5
}
