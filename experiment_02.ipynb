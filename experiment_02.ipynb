{
 "cells": [
  {
   "cell_type": "code",
   "execution_count": 2,
   "id": "a8f02b40",
   "metadata": {},
   "outputs": [],
   "source": [
    "import numpy as np\n",
    "from numba import jit\n",
    "import time\n",
    "import matplotlib.pyplot as plt\n",
    "from joblib import Parallel, delayed"
   ]
  },
  {
   "cell_type": "markdown",
   "id": "a68087a6",
   "metadata": {},
   "source": [
    "## Part II: Estimation of Sensitivities in MC"
   ]
  },
  {
   "cell_type": "code",
   "execution_count": 257,
   "id": "611086d1",
   "metadata": {},
   "outputs": [],
   "source": [
    "@jit(nopython=False, parallel=True)\n",
    "def European_Put_Delta(T, K, r, S, sigma, trials, e, seed_target=None):\n",
    "    '''\n",
    "    This function calculates the value of an European Put option\n",
    "    Arguments: maturity, strike price, interest rate, stock price, volaility, number of trials\n",
    "    Returns: Array of size trial with values of european puts\n",
    "    '''\n",
    "    Se = S + e\n",
    "    S_adjust = S * np.exp(r - (0.5 * sigma**2)*T)\n",
    "    Se_adjust = Se * np.exp(r - (0.5 * sigma**2)*T)\n",
    "    \n",
    "    delta_array = np.zeros(trials)\n",
    "    \n",
    "    for i in range(trials):\n",
    "        if seed_target != None:\n",
    "            np.random.seed(seed=seed_target)\n",
    "        S_cur = S_adjust * np.exp(sigma*np.sqrt(T)*np.random.normal())\n",
    "        Se_cur = S_adjust * np.exp(sigma*np.sqrt(T)*np.random.normal())\n",
    "        \n",
    "        if K-S_cur > 0:\n",
    "            payoff = (K-S_cur)*np.exp(-r*T)\n",
    "        else:\n",
    "            payoff = 0\n",
    "            \n",
    "        if K-Se_cur > 0:\n",
    "            payoff_e = (K-Se_cur)*np.exp(-r*T)\n",
    "        else:\n",
    "            payoff_e = 0\n",
    "            \n",
    "        delta_array[i] = (payoff_e - payoff)/e\n",
    "\n",
    "    return delta_array"
   ]
  },
  {
   "cell_type": "code",
   "execution_count": 304,
   "id": "b36ea538",
   "metadata": {},
   "outputs": [
    {
     "data": {
      "text/plain": [
       "-0.2827054451840649"
      ]
     },
     "execution_count": 304,
     "metadata": {},
     "output_type": "execute_result"
    }
   ],
   "source": [
    "T = 1\n",
    "K = 99\n",
    "r=0.06\n",
    "S=100\n",
    "sigma=0.2\n",
    "trials=10**7\n",
    "e=0.01\n",
    "seed_target=None\n",
    "np.mean(European_Put_Delta(T,K,r,S,sigma,trials,e,seed_target))"
   ]
  }
 ],
 "metadata": {
  "kernelspec": {
   "display_name": "Python 3",
   "language": "python",
   "name": "python3"
  },
  "language_info": {
   "codemirror_mode": {
    "name": "ipython",
    "version": 3
   },
   "file_extension": ".py",
   "mimetype": "text/x-python",
   "name": "python",
   "nbconvert_exporter": "python",
   "pygments_lexer": "ipython3",
   "version": "3.9.2"
  }
 },
 "nbformat": 4,
 "nbformat_minor": 5
}
