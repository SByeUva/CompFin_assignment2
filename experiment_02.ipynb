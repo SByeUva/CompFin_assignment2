{
 "cells": [
  {
   "cell_type": "code",
   "execution_count": 1,
   "id": "a8f02b40",
   "metadata": {},
   "outputs": [],
   "source": [
    "import numpy as np\n",
    "from numba import jit\n",
    "import time\n",
    "import matplotlib.pyplot as plt\n",
    "from joblib import Parallel, delayed\n",
    "import math\n",
    "from scipy.stats import norm\n",
    "import random"
   ]
  },
  {
   "cell_type": "markdown",
   "id": "8fc452c1",
   "metadata": {},
   "source": [
    "## Part II: Estimation of Sensitivities in MC"
   ]
  },
  {
   "cell_type": "code",
   "execution_count": 2,
   "id": "f4c17f4e",
   "metadata": {},
   "outputs": [],
   "source": [
    "def Delta_Analytical_Call(S, K, r, sigma, tau):\n",
    "    d1 = (math.log(S/K) + (r + 0.5 * sigma**2) * tau) / (sigma * math.sqrt(tau))\n",
    "    return norm.cdf(d1)\n",
    "\n",
    "def Delta_Analytical_Digital(S, K, r, sigma, tau):\n",
    "    d2 = (math.log(S/K) + (r-0.5*sigma**2)*tau) / (sigma * math.sqrt(tau))\n",
    "    return norm.cdf(d2) * math.e**(-r * tau)"
   ]
  },
  {
   "cell_type": "code",
   "execution_count": 27,
   "id": "8d63709f",
   "metadata": {},
   "outputs": [],
   "source": [
    "@jit(nopython=True, fastmath=True, parallel=False)\n",
    "def European_Call(T, K, r, S, sigma, trials, z):\n",
    "    '''\n",
    "    This function calculates the value of an European Call option\n",
    "    Arguments: maturity, strike price, interest rate, stock price, volaility, number of trials\n",
    "    Returns: Array of size trial with values of european puts\n",
    "    '''\n",
    "    \n",
    "    S_adjust = S * np.exp(r - (0.5 * sigma**2)*T)\n",
    "    payoff_array = np.zeros(trials)\n",
    "\n",
    "    for i in range(trials):\n",
    "        S_cur = S_adjust * np.exp(sigma*np.sqrt(T)*z[i])\n",
    "        \n",
    "        if S_cur-K > 0:\n",
    "            payoff_array[i] = (S_cur-K)*np.exp(-r*T)\n",
    "        else:\n",
    "            payoff_array[i] = 0\n",
    "\n",
    "    return np.mean(payoff_array)\n",
    "\n",
    "\n",
    "@jit(nopython=True, fastmath=True, parallel=False)\n",
    "def Digital_Call(T, K, r, S, sigma, trials, z):\n",
    "    \n",
    "    S_adjust = S * np.exp(r - (0.5 * sigma**2)*T)\n",
    "    payoff_array = np.zeros(trials)\n",
    "    \n",
    "    for i in range(trials):\n",
    "        S_cur = S_adjust * np.exp(sigma*np.sqrt(T)*np.random.normal())\n",
    "        \n",
    "        if S_cur > K:\n",
    "            payoff_array[i] = 1 * math.e**(-r*T)\n",
    "        else:\n",
    "            payoff_array[i] = 0\n",
    "\n",
    "    return np.mean(payoff_array)"
   ]
  },
  {
   "cell_type": "code",
   "execution_count": 4,
   "id": "4f93c1a1",
   "metadata": {},
   "outputs": [],
   "source": [
    "def get_delta_call(kwargs, S, e, seed=None):\n",
    "    z=np.zeros(kwargs['trials'])\n",
    "    for i in range(kwargs['trials']):\n",
    "        z[i] = np.random.normal()\n",
    "        \n",
    "    kwargs['z'] = z   \n",
    "    kwargs['S'] = S\n",
    "    \n",
    "    V = European_Call(**kwargs)\n",
    "    \n",
    "    if not seed:\n",
    "        for i in range(kwargs['trials']):\n",
    "            z[i] = random.normalvariate(0, 1)\n",
    "        kwargs['z'] = z   \n",
    "        \n",
    "    kwargs['S'] = S + e\n",
    "    Ve = European_Call(**kwargs)\n",
    "    \n",
    "    return (Ve-V)/ e\n",
    "\n",
    "\n",
    "def get_delta_digital(kwargs, S, e, seed=None):\n",
    "    z=np.zeros(kwargs['trials'])\n",
    "    for i in range(kwargs['trials']):\n",
    "        z[i] = np.random.normal()\n",
    "        \n",
    "    kwargs['z'] = z   \n",
    "    kwargs['S'] = S\n",
    "    \n",
    "    V = Digital_Call(**kwargs)\n",
    "    \n",
    "    if not seed:\n",
    "        for i in range(kwargs['trials']):\n",
    "            z[i] = random.normalvariate(0, 1)\n",
    "        kwargs['z'] = z   \n",
    "        \n",
    "    kwargs['S'] = S + e\n",
    "    \n",
    "    Ve = Digital_Call(**kwargs)\n",
    "    \n",
    "    return (Ve-V)/ e"
   ]
  },
  {
   "cell_type": "code",
   "execution_count": 25,
   "id": "aa7cb2ac",
   "metadata": {},
   "outputs": [
    {
     "data": {
      "text/plain": [
       "0.6737355117348961"
      ]
     },
     "execution_count": 25,
     "metadata": {},
     "output_type": "execute_result"
    }
   ],
   "source": [
    "analytical = Delta_Analytical_Call(100, 99, 0.06, 0.2, 1)\n",
    "analytical"
   ]
  },
  {
   "cell_type": "code",
   "execution_count": 6,
   "id": "68311f72",
   "metadata": {},
   "outputs": [],
   "source": [
    "kwargs = {}\n",
    "kwargs['T'] = 1\n",
    "kwargs['K'] = 99\n",
    "kwargs['r'] = 0.06\n",
    "kwargs['sigma'] = 0.2\n",
    "kwargs['trials'] = 10**4"
   ]
  },
  {
   "cell_type": "code",
   "execution_count": 7,
   "id": "6826b652",
   "metadata": {},
   "outputs": [],
   "source": [
    "S = 100\n",
    "e = .02\n",
    "\n",
    "delta_matrix_noseeds = [get_delta_call(kwargs, S, e, None) for x in range(100)]\n",
    "delta_matrix_seeds = [get_delta_call(kwargs, S, e, 100) for x in range(100)]"
   ]
  },
  {
   "cell_type": "code",
   "execution_count": 8,
   "id": "38e0b9ae",
   "metadata": {},
   "outputs": [
    {
     "name": "stdout",
     "output_type": "stream",
     "text": [
      "Relative error based on same seed: 0.024779201938914416%\n"
     ]
    }
   ],
   "source": [
    "# Relative error with analytical value as reference\n",
    "rel_error_same_seed = abs(analytical - np.mean(delta_matrix_seeds)) / analytical * 100\n",
    "print(f\"Relative error based on same seed: {rel_error_same_seed}%\")"
   ]
  },
  {
   "cell_type": "code",
   "execution_count": 9,
   "id": "e7f2f492",
   "metadata": {},
   "outputs": [
    {
     "name": "stdout",
     "output_type": "stream",
     "text": [
      "Relative error based on random seed: 160.6383256727763%\n"
     ]
    }
   ],
   "source": [
    "rel_error_random_seed = abs(analytical - np.mean(delta_matrix_noseeds)) / analytical * 100\n",
    "print(f\"Relative error based on random seed: {rel_error_random_seed}%\")"
   ]
  },
  {
   "cell_type": "code",
   "execution_count": 10,
   "id": "3a26d082",
   "metadata": {},
   "outputs": [],
   "source": [
    "eps = [0.01,0.02,0.5]\n",
    "size = [4,5,6,7]"
   ]
  },
  {
   "cell_type": "code",
   "execution_count": 11,
   "id": "664d191b",
   "metadata": {},
   "outputs": [],
   "source": [
    "seeded = np.matrix(np.zeros(12))\n",
    "seeded.shape = (4,3)\n",
    "\n",
    "unseeded = np.matrix(np.zeros(12))\n",
    "unseeded.shape = (4,3)"
   ]
  },
  {
   "cell_type": "code",
   "execution_count": 20,
   "id": "3ba010b7",
   "metadata": {},
   "outputs": [],
   "source": [
    "def get_convergence_matrix(analytical):\n",
    "    for row in range(len(size)):\n",
    "        for column in range(len(eps)):\n",
    "            kwargs['trials'] = 10**size[row]\n",
    "            e = eps[column]\n",
    "            seeded[row,column] = abs(analytical - np.mean(get_delta_call(kwargs, S, e, 100))) / analytical * 100\n",
    "            unseeded[row,column] = abs(analytical - np.mean(get_delta_call(kwargs, S, e,None))) / analytical * 100\n",
    "            \n",
    "    return seeded, unseeded"
   ]
  },
  {
   "cell_type": "markdown",
   "id": "a2f3e763",
   "metadata": {},
   "source": [
    "#### Matrices as in lecture Monte-Carlo II (slides 24 and 26)"
   ]
  },
  {
   "cell_type": "code",
   "execution_count": 26,
   "id": "041ea02d",
   "metadata": {},
   "outputs": [],
   "source": [
    "results = Parallel(n_jobs = 12)(delayed(get_convergence_matrix)(analytical) for i in range(12))"
   ]
  },
  {
   "cell_type": "code",
   "execution_count": 38,
   "id": "3aacacd8",
   "metadata": {},
   "outputs": [
    {
     "data": {
      "text/plain": [
       "(4, 3)"
      ]
     },
     "execution_count": 38,
     "metadata": {},
     "output_type": "execute_result"
    }
   ],
   "source": [
    "seeded[0].shape"
   ]
  },
  {
   "cell_type": "code",
   "execution_count": 30,
   "id": "a38bcc8c",
   "metadata": {},
   "outputs": [],
   "source": [
    "seeded = []\n",
    "unseeded = []\n",
    "for result in results:\n",
    "    seeded.append(result[0])\n",
    "    unseeded.append(result[1])"
   ]
  },
  {
   "cell_type": "code",
   "execution_count": 45,
   "id": "4fff6bef",
   "metadata": {},
   "outputs": [],
   "source": [
    "all_unseeded = np.matrix(np.zeros(12))\n",
    "all_unseeded.shape = (4,3)\n",
    "\n",
    "all_seeded = np.matrix(np.zeros(12))\n",
    "all_seeded.shape = (4,3)\n",
    "\n",
    "for mat in unseeded:\n",
    "    for row in range(mat.shape[0]):\n",
    "        for column in range(mat.shape[1]):\n",
    "            all_unseeded[row, column] += mat[row, column]\n",
    "            \n",
    "for mat in seeded:\n",
    "    for row in range(mat.shape[0]):\n",
    "        for column in range(mat.shape[1]):\n",
    "            all_seeded[row, column] += mat[row, column]"
   ]
  },
  {
   "cell_type": "code",
   "execution_count": 44,
   "id": "140dc6ea",
   "metadata": {},
   "outputs": [
    {
     "data": {
      "text/plain": [
       "matrix([[1887.14075769, 1271.04787763,   43.8699052 ],\n",
       "        [ 808.99812597,  361.93327321,   16.87032737],\n",
       "        [ 268.08016352,  150.54534793,    4.6293363 ],\n",
       "        [  76.06796513,   39.58624691,    2.02105451]])"
      ]
     },
     "execution_count": 44,
     "metadata": {},
     "output_type": "execute_result"
    }
   ],
   "source": [
    "all_unseeded/12"
   ]
  },
  {
   "cell_type": "code",
   "execution_count": 46,
   "id": "75b96732",
   "metadata": {},
   "outputs": [
    {
     "data": {
      "text/plain": [
       "matrix([[0.51966368, 0.67735639, 0.82160354],\n",
       "        [0.22908508, 0.21580141, 0.60682259],\n",
       "        [0.06742423, 0.06758404, 0.6604558 ],\n",
       "        [0.02357059, 0.03591098, 0.67053056]])"
      ]
     },
     "execution_count": 46,
     "metadata": {},
     "output_type": "execute_result"
    }
   ],
   "source": [
    "all_seeded/12"
   ]
  },
  {
   "cell_type": "markdown",
   "id": "4cb13375",
   "metadata": {},
   "source": [
    "## Part 2.2"
   ]
  },
  {
   "cell_type": "code",
   "execution_count": 33,
   "id": "2c789505",
   "metadata": {},
   "outputs": [
    {
     "data": {
      "text/plain": [
       "0.5639320297620053"
      ]
     },
     "execution_count": 33,
     "metadata": {},
     "output_type": "execute_result"
    }
   ],
   "source": [
    "# Analytical digital\n",
    "#https://448elmwood.files.wordpress.com/2015/04/study_pricing_digital_call_options1.pdf\n",
    "\n",
    "analytical = Delta_Analytical_Digital(S=100, K=99, r=0.06, sigma=0.2, tau=1); analytical"
   ]
  },
  {
   "cell_type": "code",
   "execution_count": 34,
   "id": "f9fa0394",
   "metadata": {},
   "outputs": [
    {
     "data": {
      "text/plain": [
       "0.01944743761851597"
      ]
     },
     "execution_count": 34,
     "metadata": {},
     "output_type": "execute_result"
    }
   ],
   "source": [
    "kwargs['trials'] = 10**4\n",
    "S=100\n",
    "e = 0.02\n",
    "ans = [get_delta_digital(kwargs, S, e, 100) for x in range(100)]\n",
    "np.mean(ans)"
   ]
  },
  {
   "cell_type": "code",
   "execution_count": 35,
   "id": "800b2aaf",
   "metadata": {},
   "outputs": [],
   "source": [
    "digital = np.matrix(np.zeros(12))\n",
    "digital.shape = (4,3)\n",
    "\n",
    "eps = [0.01,0.02,0.5]\n",
    "size = [4,5,6,7]"
   ]
  },
  {
   "cell_type": "code",
   "execution_count": 18,
   "id": "a7ce5cc2",
   "metadata": {},
   "outputs": [],
   "source": [
    "for row in range(len(size)):\n",
    "    for column in range(len(eps)):\n",
    "        kwargs['trials'] = 10**size[row]\n",
    "        e = eps[column]\n",
    "        digital[row,column] = abs(analytical - get_delta_digital(kwargs, S, e, 100)) / analytical * 100"
   ]
  },
  {
   "cell_type": "code",
   "execution_count": 22,
   "id": "a624875c",
   "metadata": {},
   "outputs": [
    {
     "data": {
      "text/plain": [
       "matrix([[ 87.0396115 ,  35.70513355,  94.42221159],\n",
       "        [ 58.41708637,  89.47902185,  96.87710649],\n",
       "        [ 96.02540826,  86.14737877,  97.00335822],\n",
       "        [103.74580222,  97.54176511,  96.67176371]])"
      ]
     },
     "execution_count": 22,
     "metadata": {},
     "output_type": "execute_result"
    }
   ],
   "source": [
    "digital"
   ]
  }
 ],
 "metadata": {
  "kernelspec": {
   "display_name": "Python 3",
   "language": "python",
   "name": "python3"
  },
  "language_info": {
   "codemirror_mode": {
    "name": "ipython",
    "version": 3
   },
   "file_extension": ".py",
   "mimetype": "text/x-python",
   "name": "python",
   "nbconvert_exporter": "python",
   "pygments_lexer": "ipython3",
   "version": "3.9.2"
  }
 },
 "nbformat": 4,
 "nbformat_minor": 5
}
