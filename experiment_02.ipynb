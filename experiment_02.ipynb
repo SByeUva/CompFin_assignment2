{
 "cells": [
  {
   "cell_type": "code",
   "execution_count": 2,
   "id": "a8f02b40",
   "metadata": {},
   "outputs": [],
   "source": [
    "import numpy as np\n",
    "from numba import jit\n",
    "import time\n",
    "import matplotlib.pyplot as plt\n",
    "from joblib import Parallel, delayed\n",
    "import math\n",
    "from scipy.stats import norm\n",
    "import random"
   ]
  },
  {
   "cell_type": "markdown",
   "id": "8fc452c1",
   "metadata": {},
   "source": [
    "## Part II: Estimation of Sensitivities in MC"
   ]
  },
  {
   "cell_type": "code",
   "execution_count": 3,
   "id": "f4c17f4e",
   "metadata": {},
   "outputs": [],
   "source": [
    "def Delta_Analytical_Call(S, K, r, sigma, tau):\n",
    "    d1 = (math.log(S/K) + (r + 0.5 * sigma**2) * tau) / (sigma * math.sqrt(tau))\n",
    "    return norm.cdf(d1)\n",
    "\n",
    "def Delta_Analytical_Digital(S, K, r, sigma, tau):\n",
    "    d2 = (math.log(S/K) + (r-0.5*sigma**2)*tau) / (sigma * math.sqrt(tau))\n",
    "    numerator = (math.e**(-r * tau)) * norm.pdf(d2) \n",
    "    denomenator = sigma * S * math.sqrt(tau)\n",
    "    \n",
    "    return numerator/denomenator"
   ]
  },
  {
   "cell_type": "code",
   "execution_count": 4,
   "id": "8d63709f",
   "metadata": {},
   "outputs": [],
   "source": [
    "@jit(nopython=True, fastmath=True, parallel=False)\n",
    "def European_Call(T, K, r, S, sigma, trials, z):\n",
    "    '''\n",
    "    This function calculates the value of an European Call option\n",
    "    Arguments: maturity, strike price, interest rate, stock price, volaility, number of trials\n",
    "    Returns: Array of size trial with values of european puts\n",
    "    '''\n",
    "    \n",
    "    S_adjust = S * np.exp(r - (0.5 * sigma**2)*T)\n",
    "    payoff_array = np.zeros(trials)\n",
    "\n",
    "    for i in range(trials):\n",
    "        S_cur = S_adjust * np.exp(sigma*np.sqrt(T)*z[i])\n",
    "        \n",
    "        if S_cur-K > 0:\n",
    "            payoff_array[i] = (S_cur-K)*np.exp(-r*T)\n",
    "        else:\n",
    "            payoff_array[i] = 0\n",
    "\n",
    "    return np.mean(payoff_array)\n",
    "\n",
    "\n",
    "@jit(nopython=True, fastmath=True, parallel=False)\n",
    "def Digital_Call(T, K, r, S, sigma, trials, z):\n",
    "    \n",
    "    S_adjust = S * np.exp(r - (0.5 * sigma**2)*T)\n",
    "    payoff_array = np.zeros(trials)\n",
    "    \n",
    "    for i in range(trials):\n",
    "        S_cur = S_adjust * np.exp(sigma*np.sqrt(T)*z[i])\n",
    "        \n",
    "        if S_cur > K:\n",
    "            payoff_array[i] = 1 * math.e**(-r*T)\n",
    "        else:\n",
    "            payoff_array[i] = 0\n",
    "\n",
    "    return np.mean(payoff_array)"
   ]
  },
  {
   "cell_type": "code",
   "execution_count": 5,
   "id": "4f93c1a1",
   "metadata": {},
   "outputs": [],
   "source": [
    "def get_delta_call(kwargs, S, e, seed=None):\n",
    "    z=np.zeros(kwargs['trials'])\n",
    "    for i in range(kwargs['trials']):\n",
    "        z[i] = np.random.normal()\n",
    "        \n",
    "    kwargs['z'] = z   \n",
    "    kwargs['S'] = S\n",
    "    \n",
    "    V = European_Call(**kwargs)\n",
    "    \n",
    "    if not seed:\n",
    "        for i in range(kwargs['trials']):\n",
    "            z[i] = random.normalvariate(0, 1)\n",
    "        kwargs['z'] = z   \n",
    "        \n",
    "    kwargs['S'] = S + e\n",
    "    Ve = European_Call(**kwargs)\n",
    "    \n",
    "    return (Ve-V)/ e\n",
    "\n",
    "\n",
    "def get_delta_digital(kwargs, S, e, seed=None):\n",
    "    z=np.zeros(kwargs['trials'])\n",
    "    for i in range(kwargs['trials']):\n",
    "        z[i] = np.random.normal()\n",
    "        \n",
    "    kwargs['z'] = z   \n",
    "    kwargs['S'] = S\n",
    "    \n",
    "    V = Digital_Call(**kwargs)\n",
    "    \n",
    "    if not seed:\n",
    "        for i in range(kwargs['trials']):\n",
    "            z[i] = random.normalvariate(0, 1)\n",
    "        kwargs['z'] = z   \n",
    "        \n",
    "    kwargs['S'] = S + e\n",
    "    \n",
    "    Ve = Digital_Call(**kwargs)\n",
    "    \n",
    "    return (Ve-V)/ e"
   ]
  },
  {
   "cell_type": "code",
   "execution_count": 6,
   "id": "aa7cb2ac",
   "metadata": {},
   "outputs": [
    {
     "data": {
      "text/plain": [
       "0.6737355117348961"
      ]
     },
     "execution_count": 6,
     "metadata": {},
     "output_type": "execute_result"
    }
   ],
   "source": [
    "analytical = Delta_Analytical_Call(100, 99, 0.06, 0.2, 1)\n",
    "analytical"
   ]
  },
  {
   "cell_type": "code",
   "execution_count": 7,
   "id": "68311f72",
   "metadata": {},
   "outputs": [],
   "source": [
    "kwargs = {}\n",
    "kwargs['T'] = 1\n",
    "kwargs['K'] = 99\n",
    "kwargs['r'] = 0.06\n",
    "kwargs['sigma'] = 0.2\n",
    "kwargs['trials'] = 10**4"
   ]
  },
  {
   "cell_type": "code",
   "execution_count": 8,
   "id": "6826b652",
   "metadata": {},
   "outputs": [],
   "source": [
    "S = 100\n",
    "e = .02\n",
    "\n",
    "delta_matrix_noseeds = [get_delta_call(kwargs, S, e, None) for x in range(100)]\n",
    "delta_matrix_seeds = [get_delta_call(kwargs, S, e, 100) for x in range(100)]"
   ]
  },
  {
   "cell_type": "code",
   "execution_count": 9,
   "id": "38e0b9ae",
   "metadata": {},
   "outputs": [
    {
     "name": "stdout",
     "output_type": "stream",
     "text": [
      "Relative error based on same seed: 0.06276673983532459%\n"
     ]
    }
   ],
   "source": [
    "# Relative error with analytical value as reference\n",
    "rel_error_same_seed = abs(analytical - np.mean(delta_matrix_seeds)) / analytical * 100\n",
    "print(f\"Relative error based on same seed: {rel_error_same_seed}%\")"
   ]
  },
  {
   "cell_type": "code",
   "execution_count": 10,
   "id": "e7f2f492",
   "metadata": {},
   "outputs": [
    {
     "name": "stdout",
     "output_type": "stream",
     "text": [
      "Relative error based on random seed: 24.50862418751412%\n"
     ]
    }
   ],
   "source": [
    "rel_error_random_seed = abs(analytical - np.mean(delta_matrix_noseeds)) / analytical * 100\n",
    "print(f\"Relative error based on random seed: {rel_error_random_seed}%\")"
   ]
  },
  {
   "cell_type": "code",
   "execution_count": 11,
   "id": "3a26d082",
   "metadata": {},
   "outputs": [],
   "source": [
    "eps = [0.01,0.02,0.5]\n",
    "size = [4,5,6,7]"
   ]
  },
  {
   "cell_type": "code",
   "execution_count": 12,
   "id": "664d191b",
   "metadata": {},
   "outputs": [],
   "source": [
    "seeded = np.matrix(np.zeros(12))\n",
    "seeded.shape = (4,3)\n",
    "\n",
    "unseeded = np.matrix(np.zeros(12))\n",
    "unseeded.shape = (4,3)"
   ]
  },
  {
   "cell_type": "code",
   "execution_count": 13,
   "id": "3ba010b7",
   "metadata": {},
   "outputs": [],
   "source": [
    "def get_convergence_matrix(analytical):\n",
    "    for row in range(len(size)):\n",
    "        for column in range(len(eps)):\n",
    "            kwargs['trials'] = 10**size[row]\n",
    "            e = eps[column]\n",
    "            seeded[row,column] = abs(analytical - np.mean(get_delta_call(kwargs, S, e, 100))) / analytical * 100\n",
    "            unseeded[row,column] = abs(analytical - np.mean(get_delta_call(kwargs, S, e,None))) / analytical * 100\n",
    "            \n",
    "    return seeded, unseeded"
   ]
  },
  {
   "cell_type": "markdown",
   "id": "a2f3e763",
   "metadata": {},
   "source": [
    "#### Matrices as in lecture Monte-Carlo II (slides 24 and 26)"
   ]
  },
  {
   "cell_type": "code",
   "execution_count": 14,
   "id": "041ea02d",
   "metadata": {},
   "outputs": [],
   "source": [
    "results = Parallel(n_jobs = 12)(delayed(get_convergence_matrix)(analytical) for i in range(12))"
   ]
  },
  {
   "cell_type": "code",
   "execution_count": 15,
   "id": "28a2cf67",
   "metadata": {},
   "outputs": [],
   "source": [
    "seeded = []\n",
    "unseeded = []\n",
    "for result in results:\n",
    "    seeded.append(result[0])\n",
    "    unseeded.append(result[1])"
   ]
  },
  {
   "cell_type": "code",
   "execution_count": 16,
   "id": "13412a67",
   "metadata": {},
   "outputs": [],
   "source": [
    "all_unseeded = np.matrix(np.zeros(12))\n",
    "all_unseeded.shape = (4,3)\n",
    "\n",
    "all_seeded = np.matrix(np.zeros(12))\n",
    "all_seeded.shape = (4,3)\n",
    "\n",
    "for mat in unseeded:\n",
    "    for row in range(mat.shape[0]):\n",
    "        for column in range(mat.shape[1]):\n",
    "            all_unseeded[row, column] += mat[row, column]\n",
    "            \n",
    "for mat in seeded:\n",
    "    for row in range(mat.shape[0]):\n",
    "        for column in range(mat.shape[1]):\n",
    "            all_seeded[row, column] += mat[row, column]"
   ]
  },
  {
   "cell_type": "code",
   "execution_count": 17,
   "id": "a6bdc52d",
   "metadata": {},
   "outputs": [
    {
     "data": {
      "text/plain": [
       "matrix([[2.42038627e+03, 1.32094192e+03, 5.53590805e+01],\n",
       "        [6.21503298e+02, 4.43650979e+02, 1.60756598e+01],\n",
       "        [2.76195613e+02, 1.21854152e+02, 5.62214481e+00],\n",
       "        [7.13383926e+01, 4.62454715e+01, 1.68027459e+00]])"
      ]
     },
     "execution_count": 17,
     "metadata": {},
     "output_type": "execute_result"
    }
   ],
   "source": [
    "all_unseeded/12"
   ]
  },
  {
   "cell_type": "code",
   "execution_count": 18,
   "id": "d47e8b64",
   "metadata": {},
   "outputs": [
    {
     "data": {
      "text/plain": [
       "matrix([[0.85530799, 0.63174749, 0.72071688],\n",
       "        [0.19706205, 0.19470396, 0.7316942 ],\n",
       "        [0.06502715, 0.07764741, 0.64492627],\n",
       "        [0.01981168, 0.02767675, 0.64577901]])"
      ]
     },
     "execution_count": 18,
     "metadata": {},
     "output_type": "execute_result"
    }
   ],
   "source": [
    "all_seeded/12"
   ]
  },
  {
   "cell_type": "markdown",
   "id": "4cb13375",
   "metadata": {},
   "source": [
    "## Part 2.2"
   ]
  },
  {
   "cell_type": "code",
   "execution_count": 19,
   "id": "2c789505",
   "metadata": {},
   "outputs": [
    {
     "data": {
      "text/plain": [
       "0.018206369779490493"
      ]
     },
     "execution_count": 19,
     "metadata": {},
     "output_type": "execute_result"
    }
   ],
   "source": [
    "# Analytical digital\n",
    "#https://448elmwood.files.wordpress.com/2015/04/study_pricing_digital_call_options1.pdf\n",
    "\n",
    "analytical = Delta_Analytical_Digital(S=100, K=99, r=0.06, sigma=0.2, tau=1); analytical"
   ]
  },
  {
   "cell_type": "code",
   "execution_count": 20,
   "id": "f9fa0394",
   "metadata": {
    "scrolled": true
   },
   "outputs": [
    {
     "data": {
      "text/plain": [
       "0.018270231951536264"
      ]
     },
     "execution_count": 20,
     "metadata": {},
     "output_type": "execute_result"
    }
   ],
   "source": [
    "kwargs['trials'] = 10**4\n",
    "S=100\n",
    "e = 0.02\n",
    "ans = [get_delta_digital(kwargs, S, e, 100) for x in range(100)]\n",
    "np.mean(ans)"
   ]
  },
  {
   "cell_type": "code",
   "execution_count": 21,
   "id": "800b2aaf",
   "metadata": {},
   "outputs": [],
   "source": [
    "digital = np.matrix(np.zeros(12))\n",
    "digital.shape = (4,3)\n",
    "\n",
    "eps = [0.01,0.02,0.5]\n",
    "size = [4,5,6,7]"
   ]
  },
  {
   "cell_type": "code",
   "execution_count": 24,
   "id": "a7ce5cc2",
   "metadata": {},
   "outputs": [],
   "source": [
    "def digital_convergence_matrix(analytical):\n",
    "    for row in range(len(size)):\n",
    "        for column in range(len(eps)):\n",
    "            kwargs['trials'] = 10**size[row]\n",
    "            e = eps[column]\n",
    "            digital[row,column] = abs(analytical - get_delta_digital(kwargs, S, e, 100)) / analytical * 100\n",
    "    return digital"
   ]
  },
  {
   "cell_type": "code",
   "execution_count": 25,
   "id": "a624875c",
   "metadata": {},
   "outputs": [],
   "source": [
    "results = Parallel(n_jobs = 12)(delayed(digital_convergence_matrix)(analytical) for i in range(12))"
   ]
  },
  {
   "cell_type": "code",
   "execution_count": 26,
   "id": "976bbf69",
   "metadata": {},
   "outputs": [],
   "source": [
    "all_digital = np.matrix(np.zeros(12))\n",
    "all_digital.shape = (4,3)\n",
    "\n",
    "\n",
    "for mat in results:\n",
    "    for row in range(mat.shape[0]):\n",
    "        for column in range(mat.shape[1]):\n",
    "            all_digital[row, column] += mat[row, column]\n",
    "all_digital = all_digital/12"
   ]
  },
  {
   "cell_type": "code",
   "execution_count": 27,
   "id": "cabed500",
   "metadata": {},
   "outputs": [
    {
     "data": {
      "text/plain": [
       "matrix([[47.41660014, 28.01890008,  9.45556941],\n",
       "        [13.36286004, 20.2627802 ,  1.36403662],\n",
       "        [ 5.15736463,  4.43991801,  0.95070736],\n",
       "        [ 1.60300664,  1.04989938,  0.58342495]])"
      ]
     },
     "execution_count": 27,
     "metadata": {},
     "output_type": "execute_result"
    }
   ],
   "source": [
    "all_digital"
   ]
  },
  {
   "cell_type": "code",
   "execution_count": null,
   "id": "5f65a0ef",
   "metadata": {},
   "outputs": [],
   "source": []
  }
 ],
 "metadata": {
  "kernelspec": {
   "display_name": "Python 3",
   "language": "python",
   "name": "python3"
  },
  "language_info": {
   "codemirror_mode": {
    "name": "ipython",
    "version": 3
   },
   "file_extension": ".py",
   "mimetype": "text/x-python",
   "name": "python",
   "nbconvert_exporter": "python",
   "pygments_lexer": "ipython3",
   "version": "3.9.2"
  }
 },
 "nbformat": 4,
 "nbformat_minor": 5
}
