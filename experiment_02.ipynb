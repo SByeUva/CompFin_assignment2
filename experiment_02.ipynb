{
 "cells": [
  {
   "cell_type": "code",
   "execution_count": 1,
   "id": "a8f02b40",
   "metadata": {},
   "outputs": [],
   "source": [
    "import numpy as np\n",
    "from numba import jit\n",
    "import time\n",
    "import matplotlib.pyplot as plt\n",
    "from joblib import Parallel, delayed\n",
    "import math\n",
    "from scipy.stats import norm"
   ]
  },
  {
   "cell_type": "markdown",
   "id": "8fc452c1",
   "metadata": {},
   "source": [
    "## Part II: Estimation of Sensitivities in MC"
   ]
  },
  {
   "cell_type": "code",
   "execution_count": 24,
   "id": "f4c17f4e",
   "metadata": {},
   "outputs": [],
   "source": [
    "def Delta_Analytical_Call(S, K, r, sigma, tau):\n",
    "    d1 = (math.log(S/K) + (r + 0.5 * sigma**2) * tau) / (sigma * math.sqrt(tau))\n",
    "    return norm.cdf(d1)\n",
    "\n",
    "def Delta_Analytical_Put(S, K, r, sigma, tau):\n",
    "    d1 = (math.log(S/K) + (r + 0.5 * sigma**2) * tau) / (sigma * math.sqrt(tau))\n",
    "    return norm.cdf(d1) - math.e**-r"
   ]
  },
  {
   "cell_type": "code",
   "execution_count": 25,
   "id": "4f93c1a1",
   "metadata": {},
   "outputs": [],
   "source": [
    "@jit(nopython=True, fastmath=True, parallel=True)\n",
    "def European_Put(T, K, r, S, sigma, trials):\n",
    "    '''\n",
    "    This function calculates the value of an European Put option\n",
    "    Arguments: maturity, strike price, interest rate, stock price, volaility, number of trials\n",
    "    Returns: Array of size trial with values of european puts\n",
    "    '''\n",
    "    \n",
    "    S_adjust = S * np.exp(r - (0.5 * sigma**2)*T)\n",
    "    payoff_array = np.zeros(trials)\n",
    "    \n",
    "    for i in range(trials):\n",
    "        S_cur = S_adjust * np.exp(sigma*np.sqrt(T)*np.random.normal())\n",
    "        \n",
    "        if K-S_cur > 0:\n",
    "            payoff_array[i] = (K-S_cur)*np.exp(-r*T)\n",
    "        else:\n",
    "            payoff_array[i] = 0\n",
    "\n",
    "    return payoff_array\n",
    "\n",
    "\n",
    "@jit(nopython=True, fastmath=True, parallel=True)\n",
    "def European_Call(T, K, r, S, sigma, trials):\n",
    "    '''\n",
    "    This function calculates the value of an European Put option\n",
    "    Arguments: maturity, strike price, interest rate, stock price, volaility, number of trials\n",
    "    Returns: Array of size trial with values of european puts\n",
    "    '''\n",
    "    \n",
    "    S_adjust = S * np.exp(r - (0.5 * sigma**2)*T)\n",
    "    payoff_array = np.zeros(trials)\n",
    "    \n",
    "    for i in range(trials):\n",
    "        S_cur = S_adjust * np.exp(sigma*np.sqrt(T)*np.random.normal())\n",
    "        \n",
    "        if S_cur-K > 0:\n",
    "            payoff_array[i] = (S_cur-K)*np.exp(-r*T)\n",
    "        else:\n",
    "            payoff_array[i] = 0\n",
    "\n",
    "    return payoff_array\n",
    "\n",
    "\n",
    "def get_delta_put(kwargs, S, e, seed=None):\n",
    "    if seed:\n",
    "        np.random.seed(seed)\n",
    "    kwargs['S'] = S\n",
    "    V = European_Put(**kwargs)\n",
    "    \n",
    "    \n",
    "    kwargs['S'] = S + e\n",
    "    if seed:\n",
    "        np.random.seed(seed)\n",
    "    Ve = European_Put(**kwargs)\n",
    "    \n",
    "    return (Ve-V)/ e\n",
    "\n",
    "\n",
    "def get_delta_call(kwargs, S, e, seed=None):\n",
    "    if seed:\n",
    "        np.random.seed(seed)\n",
    "        \n",
    "    kwargs['S'] = S\n",
    "    V = European_Call(**kwargs)\n",
    "    \n",
    "    \n",
    "    kwargs['S'] = S + e\n",
    "    if seed:\n",
    "        np.random.seed(seed)\n",
    "    Ve = European_Call(**kwargs)\n",
    "    \n",
    "    return (Ve-V)/ e"
   ]
  },
  {
   "cell_type": "code",
   "execution_count": 26,
   "id": "aa7cb2ac",
   "metadata": {},
   "outputs": [
    {
     "data": {
      "text/plain": [
       "0.6737355117348961"
      ]
     },
     "execution_count": 26,
     "metadata": {},
     "output_type": "execute_result"
    }
   ],
   "source": [
    "Delta_Analytical_Call(100, 99, 0.06, 0.2, 1)"
   ]
  },
  {
   "cell_type": "code",
   "execution_count": 27,
   "id": "68311f72",
   "metadata": {},
   "outputs": [],
   "source": [
    "kwargs = {}\n",
    "kwargs['T'] = 1\n",
    "kwargs['K'] = 99\n",
    "kwargs['r'] = 0.06\n",
    "kwargs['sigma'] = 0.2\n",
    "kwargs['trials'] = 10**6"
   ]
  },
  {
   "cell_type": "code",
   "execution_count": 28,
   "id": "6826b652",
   "metadata": {},
   "outputs": [],
   "source": [
    "S = 100\n",
    "e = 1\n",
    "delta_matrix = [get_delta_call(kwargs, S, e, 40) for x in range(100)]"
   ]
  },
  {
   "cell_type": "code",
   "execution_count": 29,
   "id": "3a26d082",
   "metadata": {},
   "outputs": [
    {
     "data": {
      "text/plain": [
       "0.6838943664261715"
      ]
     },
     "execution_count": 29,
     "metadata": {},
     "output_type": "execute_result"
    }
   ],
   "source": [
    "np.mean(delta_matrix)"
   ]
  },
  {
   "cell_type": "code",
   "execution_count": 30,
   "id": "2cf28043",
   "metadata": {},
   "outputs": [
    {
     "data": {
      "text/plain": [
       "0.0021944289134009955"
      ]
     },
     "execution_count": 30,
     "metadata": {},
     "output_type": "execute_result"
    }
   ],
   "source": [
    "np.std(delta_matrix) / np.sqrt(len(delta_matrix[0]) * len(delta_matrix))"
   ]
  },
  {
   "cell_type": "code",
   "execution_count": 18,
   "id": "a14316a1",
   "metadata": {},
   "outputs": [
    {
     "data": {
      "text/plain": [
       "4.7787637986912275"
      ]
     },
     "execution_count": 18,
     "metadata": {},
     "output_type": "execute_result"
    }
   ],
   "source": [
    "kwargs['trials'] = 100_000_000\n",
    "kwargs['S'] = 100\n",
    "np.mean(European_Put(**kwargs))"
   ]
  },
  {
   "cell_type": "code",
   "execution_count": null,
   "id": "76691131",
   "metadata": {},
   "outputs": [],
   "source": [
    "kwargs['trials'] = 100_000_000\n",
    "kwargs['S'] = 105\n",
    "np.mean(European_Put(**kwargs))"
   ]
  }
 ],
 "metadata": {
  "kernelspec": {
   "display_name": "Python 3",
   "language": "python",
   "name": "python3"
  },
  "language_info": {
   "codemirror_mode": {
    "name": "ipython",
    "version": 3
   },
   "file_extension": ".py",
   "mimetype": "text/x-python",
   "name": "python",
   "nbconvert_exporter": "python",
   "pygments_lexer": "ipython3",
   "version": "3.9.2"
  }
 },
 "nbformat": 4,
 "nbformat_minor": 5
}
