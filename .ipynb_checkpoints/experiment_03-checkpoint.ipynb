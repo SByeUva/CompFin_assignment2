{
 "cells": [
  {
   "cell_type": "code",
   "execution_count": 1,
   "id": "8106e4b1",
   "metadata": {},
   "outputs": [],
   "source": [
    "import numpy as np\n",
    "from numba import jit\n",
    "import time\n",
    "import matplotlib.pyplot as plt\n",
    "from joblib import Parallel, delayed\n",
    "from scipy.stats import norm"
   ]
  },
  {
   "cell_type": "code",
   "execution_count": 62,
   "id": "d821acf2",
   "metadata": {},
   "outputs": [],
   "source": [
    "def Asian_Analytical(T, K, r, S0, sigma, N):\n",
    "    \n",
    "    '''\n",
    "    Calculate Asian Option \n",
    "    Analytical expression for Asian call option based on geometric averages\n",
    "    '''\n",
    "    sigma_tilde = sigma * np.sqrt((2*N + 1)/(6*(N+1)))\n",
    "    r_tilde = ((r - 0.5*sigma*sigma) + (sigma_tilde*sigma_tilde))/2\n",
    "    d1 = (np.log(S0/K) + (r_tilde + 0.5*sigma_tilde**2)*T) /(np.sqrt(T)*sigma_tilde)\n",
    "    d2 = (np.log(S0/K) + (r_tilde - 0.5*sigma_tilde**2)*T) /(np.sqrt(T)*sigma_tilde)\n",
    "    \n",
    "    \n",
    "    return np.exp(-r*T) * (S0 * np.exp(r_tilde *T)*norm.cdf(d1) - K*norm.cdf(d2))"
   ]
  },
  {
   "cell_type": "code",
   "execution_count": 63,
   "id": "63c57520",
   "metadata": {
    "scrolled": true
   },
   "outputs": [
    {
     "name": "stdout",
     "output_type": "stream",
     "text": [
      "2.9658572077909873\n"
     ]
    }
   ],
   "source": [
    "True_Asian_geo = Asian_Analytical(1, 29, 0.08, 30, 0.3, 250)\n",
    "print(True_Asian_geo)"
   ]
  },
  {
   "cell_type": "code",
   "execution_count": 25,
   "id": "d114ae1a",
   "metadata": {},
   "outputs": [],
   "source": [
    "@jit(nopython=False, fastmath = True)\n",
    "def GBM_Euler(T, K, S, sigma, r, M):\n",
    "    '''\n",
    "    Inputs: Time, Strike price, asset price, vol, interest rate, number of steps\n",
    "    '''\n",
    "    \n",
    "    dt = T/M\n",
    "    S_all = np.zeros(M)\n",
    "    S_all[0] = S\n",
    "    \n",
    "    for i in range(1, M):\n",
    "        S_all[i] = S_all[i-1] + r* S_all[i-1] * dt + sigma * S_all[i-1] * np.sqrt(dt) * np.random.normal()\n",
    "    return S_all"
   ]
  },
  {
   "cell_type": "code",
   "execution_count": 30,
   "id": "e6b916d1",
   "metadata": {},
   "outputs": [],
   "source": [
    "T = 1; K = 29; r = 0.08; S = 30; sigma = 0.3; trials = 1000; M = 100; N=250"
   ]
  },
  {
   "cell_type": "code",
   "execution_count": 31,
   "id": "ed2687a9",
   "metadata": {},
   "outputs": [],
   "source": [
    "# https://stackoverflow.com/questions/43099542/python-easy-way-to-do-geometric-mean-in-python\n",
    "def geo_mean_overflow(iterable):\n",
    "    return  np.exp(np.log(iterable).mean())"
   ]
  },
  {
   "cell_type": "code",
   "execution_count": 80,
   "id": "468971be",
   "metadata": {},
   "outputs": [],
   "source": [
    "def Control_Variate_Arith_Asian(T, K, r, S, sigma, trials, M, N, returnall=False):\n",
    "    s_geo = np.zeros(trials)\n",
    "    s_ar = np.zeros(trials)\n",
    "    True_Asian_geo = Asian_Analytical(T, K, r, S, sigma, N)\n",
    "    print(f\"True asian {True_Asian_geo}\")\n",
    "    \n",
    "    '''\n",
    "    for i in range(trials):\n",
    "        test = GBM_Euler(T, K, S, sigma, r, M)\n",
    "        s_geo[i] = np.max((0, geo_mean_overflow(test) - K))\n",
    "        \n",
    "        S_arith = ((1/len(test)) * np.sum(test))\n",
    "        s_ar[i] = np.max((0, S_arith - K))\n",
    "    '''\n",
    "    \n",
    "    for i in range(trials ):\n",
    "        test = GBM_Euler(T, K, S, sigma, r, M)\n",
    "    #    s[i] = np.max((0, (test.prod())**(1/(len(test))) - K ))\n",
    "        s_geo[i] = np.max((0, geo_mean_overflow(test)   - K))\n",
    " \n",
    "    for i in range(trials):\n",
    "        test = GBM_Euler(T, K, S, sigma, r, M)\n",
    "        S_arith = ((1/len(test)) * np.sum(test))\n",
    "        s_ar[i] = np.max((0, S_arith - K))\n",
    "\n",
    "\n",
    "    V_MC_geo = np.mean(s_geo)\n",
    "    var_geo = np.var(s_geo)\n",
    "    print(f\"Asian MC geometric: {V_MC_geo}\")\n",
    "    print(f\"Asian MC geometric var: {var_geo}\")\n",
    "    CI_geo = [np.mean(s_geo) - 1.96*np.std(s_geo)/np.sqrt(len(s_geo)), np.mean(s_geo) + 1.96*np.std(s_geo)/np.sqrt(len(s_geo))]\n",
    "    \n",
    "    V_MC_arith = np.mean(s_ar)\n",
    "    var_arith = np.var(s_ar)\n",
    "    CI_arith = [np.mean(s_ar) - 1.96*np.std(s_ar)/np.sqrt(len(s_ar)), np.mean(s_ar) + 1.96*np.std(s_ar)/np.sqrt(len(s_ar))]\n",
    "    \n",
    "    print(f\"Asian MC arith: {V_MC_arith}\")\n",
    "    print(f\"Asian MC arith var: {var_arith}\")\n",
    "      \n",
    "    # Compute optimal beta coefficient which minimizes the variance\n",
    "    beta = (np.std(s_ar) / np.std(s_geo)) * np.corrcoef(s_ar, s_geo)[0][0]\n",
    "\n",
    "    # Compute Control Variate estimate of arithmetic Asian call option\n",
    "    arith_CV_est = V_MC_arith - beta*(V_MC_geo - True_Asian_geo)\n",
    "        \n",
    "    \n",
    "    # Compute variance of CV estimate \n",
    "    var_CV_arith = var_arith - ((np.cov((s_ar, s_geo))[0][0]**2 ) / var_geo)\n",
    "\n",
    "    print(f\"beta: {beta}\")\n",
    "    print(f\"CV est {arith_CV_est}\")\n",
    "    \n",
    "    \n",
    "    if returnall:  \n",
    "        return arith_CV_est, var_CV_arith, V_MC_geo, var_geo, V_MC_arith, var_arith\n",
    "    return arith_CV_est, var_CV_arith\n"
   ]
  },
  {
   "cell_type": "code",
   "execution_count": 84,
   "id": "3403154b",
   "metadata": {},
   "outputs": [
    {
     "name": "stdout",
     "output_type": "stream",
     "text": [
      "True asian 2.9658572077909873\n",
      "Asian MC geometric: 3.133111113181047\n",
      "Asian MC geometric var: 15.303712841475553\n",
      "Asian MC arith: 3.2318594280929602\n",
      "Asian MC arith var: 19.22922853691905\n",
      "beta: 1.1209404117990527\n",
      "CV est 3.044377766510027\n",
      "returened est: 3.044377766510027 returned var -4.980835464790491\n"
     ]
    }
   ],
   "source": [
    "arith_CV_est, var_CV_arith = Control_Variate_Arith_Asian(T, K, r, S, sigma, trials, M, N, returnall=False)\n",
    "print(f\"returened est: {arith_CV_est} returned var {var_CV_arith}\")\n",
    "#arith_CV_est, var_CV_arith, V_MC_geo, var_geo, V_MC_arith, var_arith = Control_Variate_Arith_Asian(T, K, r, S, sigma, trials, M, N, returnall=True)\n",
    "#print(arith_CV_est, var_CV_arith, V_MC_geo, var_geo, V_MC_arith, var_arith)"
   ]
  },
  {
   "cell_type": "code",
   "execution_count": 85,
   "id": "3edff5b6",
   "metadata": {
    "scrolled": true
   },
   "outputs": [
    {
     "name": "stdout",
     "output_type": "stream",
     "text": [
      "Asian MC geometric: 3.1333560623298324\n",
      "Asian MC geometric var: 16.02195857922662\n",
      "Asian MC arith: 3.361307249249232\n",
      "Asian MC arith var: 17.780563942267428\n",
      "beta: 1.0534525126090395\n",
      "CV est 3.1848551600761494\n",
      "CV var -1.9911574211577943\n"
     ]
    }
   ],
   "source": [
    "s_geo = np.zeros(trials)\n",
    "\n",
    "for i in range(trials ):\n",
    "    test = GBM_Euler(T, K, S, sigma, r, M)\n",
    "    s_geo[i] = np.max((0, geo_mean_overflow(test)   - K))\n",
    "\n",
    "V_MC_geo = np.mean(s_geo)\n",
    "var_geo = np.var(s_geo)\n",
    "CI = [np.mean(s_geo) - 1.96*np.std(s_geo)/np.sqrt(len(s_geo)), np.mean(s_geo) + 1.96*np.std(s_geo)/np.sqrt(len(s_geo))]\n",
    "\n",
    "print(f\"Asian MC geometric: {V_MC_geo}\")\n",
    "print(f\"Asian MC geometric var: {var_geo}\")\n",
    "\n",
    "    \n",
    "\"\"\"\n",
    "Monte Carlo for Arithmetic Average of Asian Call option\n",
    "\"\"\"\n",
    "s_ar = np.zeros(trials)\n",
    "\n",
    "for i in range(trials):\n",
    "    test = GBM_Euler(T, K, S, sigma, r, M)\n",
    "    S_arith = ((1/len(test)) * np.sum(test))\n",
    "    s_ar[i] = np.max((0, S_arith - K))\n",
    "\n",
    "V_MC_arith = np.mean(s_ar)\n",
    "var_arith = np.var(s_ar)\n",
    "CI = [np.mean(s_ar) - 1.96*np.std(s_ar)/np.sqrt(len(s_ar)), np.mean(s_ar) + 1.96*np.std(s_ar)/np.sqrt(len(s_ar))]\n",
    "\n",
    "# Compute optimal beta coefficient which minimizes the variance\n",
    "beta = (np.std(s_ar) / np.std(s_geo)) * np.corrcoef(s_ar, s_geo)[0][0]\n",
    "\n",
    "# Compute Control Variate estimate of arithmetic Asian call option\n",
    "arith_CV_est = V_MC_arith - beta*(V_MC_geo - True_Asian_geo)\n",
    "\n",
    "var_CV_arith = var_arith - ((np.cov((s_ar, s_geo))[0][0]**2) / var_geo)\n",
    "\n",
    "print(f\"Asian MC arith: {V_MC_arith}\")\n",
    "print(f\"Asian MC arith var: {var_arith}\")\n",
    "print(f\"beta: {beta}\")\n",
    "print(f\"CV est {arith_CV_est}\")\n",
    "print(f\"CV var {var_CV_arith}\")"
   ]
  },
  {
   "cell_type": "code",
   "execution_count": 86,
   "id": "5966ad06",
   "metadata": {},
   "outputs": [
    {
     "name": "stdout",
     "output_type": "stream",
     "text": [
      "Asian MC arith: 3.359608767066635\n",
      "Asian MC arith var: 17.618755206212438\n"
     ]
    }
   ],
   "source": [
    "\"\"\"\n",
    "Monte Carlo for Arithmetic Average of Asian Call option\n",
    "\"\"\"\n",
    "s_ar = np.zeros(trials)\n",
    "\n",
    "for i in range(trials):\n",
    "    test = GBM_Euler(T, K, S, sigma, r, M)\n",
    "    S_arith = ((1/len(test)) * np.sum(test))\n",
    "    s_ar[i] = np.max((0, S_arith - K))\n",
    "\n",
    "V_MC_arith = np.mean(s_ar)\n",
    "var_arith = np.var(s_ar)\n",
    "CI = [np.mean(s_ar) - 1.96*np.std(s_ar)/np.sqrt(len(s_ar)), np.mean(s_ar) + 1.96*np.std(s_ar)/np.sqrt(len(s_ar))]\n",
    "\n",
    "\n",
    "print(f\"Asian MC arith: {V_MC_arith}\")\n",
    "print(f\"Asian MC arith var: {var_arith}\")\n",
    "\n",
    "#print(f\"Confidence interval: {CI[0], CI[1]}\")\n",
    "#print(f\"Size of CI: {CI[1]-CI[0]}\")"
   ]
  },
  {
   "cell_type": "code",
   "execution_count": 87,
   "id": "8a9a713a",
   "metadata": {},
   "outputs": [
    {
     "name": "stdout",
     "output_type": "stream",
     "text": [
      "3.18396139769211\n"
     ]
    }
   ],
   "source": [
    "# Compute optimal beta coefficient which minimizes the variance\n",
    "beta = (np.std(s_ar) / np.std(s_geo)) * np.corrcoef(s_ar, s_geo)[0][0]\n",
    "\n",
    "# Compute Control Variate estimate of arithmetic Asian call option\n",
    "arith_CV_est = V_MC_arith - beta*(V_MC_geo - True_Asian_geo)\n",
    "print(arith_CV_est)"
   ]
  },
  {
   "cell_type": "code",
   "execution_count": 88,
   "id": "996f5c2f",
   "metadata": {},
   "outputs": [
    {
     "name": "stdout",
     "output_type": "stream",
     "text": [
      "-1.7947457745350697\n"
     ]
    }
   ],
   "source": [
    "# Variance of controlled estimator (arith_CV_est)\n",
    "# var_CV_arith = (1/len(test)) * (var_geo - (np.cov((s_ar, s_geo))[0][0]**2 / var_arith))\n",
    "var_CV_arith = var_arith - ((np.cov((s_ar, s_geo))[0][0]**2) / var_geo)\n",
    "print(var_CV_arith)"
   ]
  },
  {
   "cell_type": "code",
   "execution_count": null,
   "id": "e25f843b",
   "metadata": {},
   "outputs": [],
   "source": []
  }
 ],
 "metadata": {
  "kernelspec": {
   "display_name": "Python 3 (ipykernel)",
   "language": "python",
   "name": "python3"
  },
  "language_info": {
   "codemirror_mode": {
    "name": "ipython",
    "version": 3
   },
   "file_extension": ".py",
   "mimetype": "text/x-python",
   "name": "python",
   "nbconvert_exporter": "python",
   "pygments_lexer": "ipython3",
   "version": "3.8.12"
  }
 },
 "nbformat": 4,
 "nbformat_minor": 5
}
