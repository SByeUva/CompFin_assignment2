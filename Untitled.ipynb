{
 "cells": [
  {
   "cell_type": "markdown",
   "id": "86762e00",
   "metadata": {},
   "source": [
    "# Part III. Variance Reduction"
   ]
  },
  {
   "cell_type": "code",
   "execution_count": 14,
   "id": "8111252e",
   "metadata": {},
   "outputs": [],
   "source": [
    "import numpy as np\n",
    "from numba import jit\n",
    "import time\n",
    "import matplotlib.pyplot as plt\n",
    "from joblib import Parallel, delayed\n",
    "from scipy.stats import norm\n",
    "import tqdm"
   ]
  },
  {
   "cell_type": "markdown",
   "id": "229d16a1",
   "metadata": {},
   "source": [
    "### 1. Asian call option based on geometeric averages"
   ]
  },
  {
   "cell_type": "code",
   "execution_count": 70,
   "id": "c6f64c59",
   "metadata": {},
   "outputs": [],
   "source": [
    "def Asian_Analytical(T, K, r, S0, sigma, N):\n",
    "    '''\n",
    "    Calculate Asian Option \n",
    "    Analytical expression for Asian call option based on geometric averages\n",
    "    '''\n",
    "    sigma_tilde = sigma * np.sqrt((2*N + 1)/(6*(N+1)))\n",
    "    r_tilde = ((r - 0.5*sigma*sigma) + (sigma_tilde*sigma_tilde))/2\n",
    "    d1 = (np.log(S0/K) + (r_tilde + 0.5*sigma_tilde**2)*T) /(np.sqrt(T)*sigma_tilde)\n",
    "    d2 = (np.log(S0/K) + (r_tilde - 0.5*sigma_tilde**2)*T) /(np.sqrt(T)*sigma_tilde)\n",
    "    \n",
    "    \n",
    "    return np.exp(-r*T) * (S0 * np.exp(r_tilde *T)*norm.cdf(d1) - K*norm.cdf(d2))"
   ]
  },
  {
   "cell_type": "code",
   "execution_count": 71,
   "id": "31b04da1",
   "metadata": {},
   "outputs": [],
   "source": [
    "T = 1; K = 99; r = 0.06; S = 100; sigma = 0.2; \n",
    "trials = 10000; M = 1000; N=365"
   ]
  },
  {
   "cell_type": "code",
   "execution_count": 72,
   "id": "c1a4e675",
   "metadata": {},
   "outputs": [
    {
     "name": "stdout",
     "output_type": "stream",
     "text": [
      "6.331828080598059\n"
     ]
    }
   ],
   "source": [
    "True_Asian_geo = Asian_Analytical(T, K, r, S, sigma, 365)\n",
    "\n",
    "print(True_Asian_geo)"
   ]
  },
  {
   "cell_type": "code",
   "execution_count": 73,
   "id": "be2c7cf9",
   "metadata": {},
   "outputs": [],
   "source": [
    "@jit(nopython=False, fastmath = True)\n",
    "def GBM_Euler(T, K, S, sigma, r, M):\n",
    "    '''\n",
    "    Inputs: Time, Strike price, asset price, vol, interest rate, number of steps\n",
    "    '''\n",
    "    \n",
    "    dt = T/M\n",
    "    S_all = np.zeros(M)\n",
    "    S_all[0] = S\n",
    "    \n",
    "    for i in range(1, M):\n",
    "        S_all[i] = S_all[i-1] + r* S_all[i-1] * dt + sigma * S_all[i-1] * np.sqrt(dt) * np.random.normal()\n",
    "    return S_all"
   ]
  },
  {
   "cell_type": "code",
   "execution_count": 74,
   "id": "33ae280d",
   "metadata": {},
   "outputs": [],
   "source": [
    "# https://stackoverflow.com/questions/43099542/python-easy-way-to-do-geometric-mean-in-python\n",
    "@jit(nopython=False, fastmath = True)\n",
    "def geo_mean_overflow(iterable):\n",
    "    \n",
    "    return  np.exp(np.mean(np.log(iterable)))"
   ]
  },
  {
   "cell_type": "code",
   "execution_count": 75,
   "id": "5c8b8768",
   "metadata": {},
   "outputs": [],
   "source": [
    "def Asian_geometric_MC(T, K, r, S0, sigma, N, trials):\n",
    "    s_geo = np.zeros(trials)\n",
    "\n",
    "    for i in range(trials ):\n",
    "        test = GBM_Euler(T, K, S0, sigma, r, M)\n",
    "    #    s[i] = np.max((0, (test.prod())**(1/(len(test))) - K ))\n",
    "        s_geo[i] = np.max((0, geo_mean_overflow(test) - K))\n",
    " \n",
    "    return s_geo"
   ]
  },
  {
   "cell_type": "code",
   "execution_count": 76,
   "id": "a7759d0d",
   "metadata": {},
   "outputs": [
    {
     "name": "stdout",
     "output_type": "stream",
     "text": [
      "Wall time: 0 ns\n"
     ]
    }
   ],
   "source": [
    "%time\n",
    "array = Asian_geometric_MC(T, K, r, S, sigma, N, 100_000)"
   ]
  },
  {
   "cell_type": "code",
   "execution_count": 77,
   "id": "cd559a38",
   "metadata": {},
   "outputs": [
    {
     "name": "stdout",
     "output_type": "stream",
     "text": [
      "Mean: 6.7194246356574014 +/- 0.027176039755498805\n"
     ]
    }
   ],
   "source": [
    "print(f\"Mean: {np.mean(array)} +/- {np.std(array)/np.sqrt(len(array))}\")"
   ]
  },
  {
   "cell_type": "markdown",
   "id": "df5d18e7",
   "metadata": {},
   "source": [
    "## 3. Conrol variate arithmetic averages"
   ]
  },
  {
   "cell_type": "code",
   "execution_count": 45,
   "id": "4ae77da9",
   "metadata": {},
   "outputs": [],
   "source": [
    "def Control_Variate_Arith_Asian(T, K, r, S, sigma, trials, M, N, returnall=None):\n",
    "    s_geo = np.zeros(trials)\n",
    "    s_ar = np.zeros(trials)\n",
    "    True_Asian_geo = Asian_Analytical(T, K, r, S, sigma, N)\n",
    "    \n",
    "    # Use one loop; if we use two separate GBMs, get high variance still\n",
    "    for i in range(trials):\n",
    "        test = GBM_Euler(T, K, S, sigma, r, M)\n",
    "        s_geo[i] = np.max((0, geo_mean_overflow(test) - K))\n",
    "        s_ar[i] = np.max((0, ((1/len(test)) * np.sum(test)) - K))\n",
    "\n",
    "\n",
    "    V_MC_geo = np.mean(s_geo)\n",
    "    var_geo = np.var(s_geo)\n",
    "    CI_geo = [np.mean(s_geo) - 1.96*np.std(s_geo)/np.sqrt(len(s_geo)), np.mean(s_geo) + 1.96*np.std(s_geo)/np.sqrt(len(s_geo))]\n",
    "    \n",
    "    V_MC_arith = np.mean(s_ar)\n",
    "    var_arith = np.var(s_ar)\n",
    "    CI_arith = [np.mean(s_ar) - 1.96*np.std(s_ar)/np.sqrt(len(s_ar)), np.mean(s_ar) + 1.96*np.std(s_ar)/np.sqrt(len(s_ar))]\n",
    "\n",
    "    # Compute optimal beta coefficient which minimizes the variance\n",
    "    beta = (np.std(s_ar) / np.std(s_geo)) * np.corrcoef(s_ar, s_geo)[1][0]\n",
    "\n",
    "    # Compute Control Variate estimate of arithmetic Asian call option\n",
    "    arith_CV_est = V_MC_arith - beta*(V_MC_geo - True_Asian_geo)\n",
    "         \n",
    "    \n",
    "    # Compute variance of CV estimate \n",
    "    # 1. alternative variance (use this one)\n",
    "    arith_CV_var = var_arith - 2*beta*np.std(s_geo)*np.std(s_ar)* np.corrcoef(s_ar, s_geo)[1][0] + (beta**2)*var_geo\n",
    "    \n",
    "#     # 2. original one we used (but turns negative sometimes)\n",
    "#     arith_CV_var_old = var_arith - ((np.cov((s_ar, s_geo))[1][0]**2 ) / var_geo)\n",
    "#     # 3. alternative variance \n",
    "#     arith_CV_var_alt2 = (1/trials) * (var_arith - ((np.cov((s_ar, s_geo))[1][0]**2 ) / var_geo))\n",
    "#     # 4. alternative variance, concsistent with nr 2.\n",
    "#     arith_CV_var_alt3 = (1-np.corrcoef(s_ar, s_geo)[1][0]**2)*var_arith\n",
    "    \n",
    "    # Compute ratio variance of optimally controlled estimator to that of uncontrolled\n",
    "#     ratio_variances = arith_CV_var / var_arith\n",
    "    ratio_variances = 1 - np.corrcoef(s_ar, s_geo)[1][0]**2\n",
    "\n",
    "    # Compute correlation coefficient\n",
    "    corr = np.corrcoef(s_ar, s_geo)[1][0]\n",
    "\n",
    "    if returnall is None:\n",
    "        return arith_CV_est, arith_CV_var, ratio_variances, corr, V_MC_geo, var_geo, V_MC_arith, var_arith\n",
    "    elif returnall == 1:\n",
    "        return arith_CV_est, V_MC_arith\n",
    "    elif returnall == 2:\n",
    "        return arith_CV_est, ratio_variances\n",
    "    elif returnall == 3:\n",
    "        return ratio_variances\n",
    "#     elif returnall ==4:\n",
    "#         return arith_CV_var, arith_CV_var_alt, arith_CV_var_alt2, arith_CV_var_alt3\n",
    "    return arith_CV_est\n"
   ]
  },
  {
   "cell_type": "code",
   "execution_count": 24,
   "id": "4f09393e",
   "metadata": {},
   "outputs": [],
   "source": [
    "def Control_Variate_Arith_Asian_jit(T, K, r, S, sigma, trials, M, N,analytical, returnall=None):\n",
    "    s_geo = np.zeros(trials)\n",
    "    s_ar = np.zeros(trials)\n",
    "    True_Asian_geo = analytical\n",
    "    \n",
    "    # Use one loop; if we use two separate GBMs, get high variance still\n",
    "    for i in range(trials):\n",
    "        test = GBM_Euler(T, K, S, sigma, r, M)\n",
    "        \n",
    "        if geo_mean_overflow(test) - K > 0:\n",
    "            s_geo[i] = geo_mean_overflow(test) - K\n",
    "        else:\n",
    "            s_geo[i] = 0\n",
    "        \n",
    "        if ((1/len(test)) * np.sum(test)) - K > 0:\n",
    "            s_ar[i] = ((1/len(test)) * np.sum(test)) - K\n",
    "        else:\n",
    "            s_ar[i] = 0\n",
    "        \n",
    "\n",
    "    V_MC_geo = np.mean(s_geo)\n",
    "    var_geo = np.var(s_geo)\n",
    "    CI_geo = [np.mean(s_geo) - 1.96*np.std(s_geo)/np.sqrt(len(s_geo)), np.mean(s_geo) + 1.96*np.std(s_geo)/np.sqrt(len(s_geo))]\n",
    "    \n",
    "    V_MC_arith = np.mean(s_ar)\n",
    "    var_arith = np.var(s_ar)\n",
    "    CI_arith = [np.mean(s_ar) - 1.96*np.std(s_ar)/np.sqrt(len(s_ar)), np.mean(s_ar) + 1.96*np.std(s_ar)/np.sqrt(len(s_ar))]\n",
    "\n",
    "    # Compute optimal beta coefficient which minimizes the variance\n",
    "    beta = (np.std(s_ar) / np.std(s_geo)) * np.corrcoef(s_ar, s_geo)[1][0]\n",
    "\n",
    "    # Compute Control Variate estimate of arithmetic Asian call option\n",
    "    arith_CV_est = V_MC_arith - beta*(V_MC_geo - True_Asian_geo)\n",
    "         \n",
    "    \n",
    "    # Compute variance of CV estimate \n",
    "    # 1. alternative variance (use this one)\n",
    "    arith_CV_var = var_arith - 2*beta*np.std(s_geo)*np.std(s_ar)* np.corrcoef(s_ar, s_geo)[1][0] + (beta**2)*var_geo\n",
    "    \n",
    "    \n",
    "    # Compute ratio variance of optimally controlled estimator to that of uncontrolled\n",
    "#     ratio_variances = arith_CV_var / var_arith\n",
    "    ratio_variances = 1 - np.corrcoef(s_ar, s_geo)[1][0]**2\n",
    "\n",
    "    # Compute correlation coefficient\n",
    "    corr = np.corrcoef(s_ar, s_geo)[1][0]\n",
    "\n",
    "    if returnall is None:\n",
    "        return arith_CV_est, arith_CV_var, ratio_variances, corr, V_MC_geo, var_geo, V_MC_arith, var_arith\n",
    "    elif returnall == 1:\n",
    "        return arith_CV_est, V_MC_arith\n",
    "    elif returnall == 2:\n",
    "        return arith_CV_est, ratio_variances\n",
    "    elif returnall == 3:\n",
    "        return ratio_variances\n",
    "#     elif returnall ==4:\n",
    "#         return arith_CV_var, arith_CV_var_alt, arith_CV_var_alt2, arith_CV_var_alt3\n",
    "    return arith_CV_est\n"
   ]
  },
  {
   "cell_type": "markdown",
   "id": "46ba1552",
   "metadata": {},
   "source": [
    "Calculate the value of the asian option based on arithmetic averages"
   ]
  },
  {
   "cell_type": "code",
   "execution_count": 25,
   "id": "27db7278",
   "metadata": {},
   "outputs": [
    {
     "name": "stdout",
     "output_type": "stream",
     "text": [
      "Estimate of arithmetic Asian (using CV): 6.567535382350578\n",
      "Variance of arithmetic Asian (using CV):  0.05903756084606471\n",
      "\n",
      "Analytical value Geometric Asian: 6.331828080598059\n",
      "Estimate of MC geometric Asian: 6.657116426450219\n",
      "Estimate of MC arithmetic Asian: 6.903800827741198\n",
      "\n",
      "Ratio of variances ofoptimally controlled to uncontrolled estimator:0.0007614822416910361\n",
      "Variance reduction factor: 1313.228260949702\n",
      "\n",
      "Correlation, rho: 0.999619186369644\n"
     ]
    }
   ],
   "source": [
    "analytical = 6.331828080598059\n",
    "\n",
    "arith_CV_est, arith_CV_var, ratio_variances, corr, V_MC_geo, var_geo, V_MC_arith, var_arith = Control_Variate_Arith_Asian_jit(T, K, r, S, sigma, 10_000, M, N, analytical)\n",
    "\n",
    "print(f\"Estimate of arithmetic Asian (using CV): {arith_CV_est}\")\n",
    "print(f\"Variance of arithmetic Asian (using CV):  {arith_CV_var}\")\n",
    "print()\n",
    "print(f\"Analytical value Geometric Asian: {True_Asian_geo}\")\n",
    "print(f\"Estimate of MC geometric Asian: {V_MC_geo}\")\n",
    "print(f\"Estimate of MC arithmetic Asian: {V_MC_arith}\")\n",
    "print()\n",
    "print(f\"Ratio of variances ofoptimally controlled to uncontrolled estimator:{ratio_variances}\")\n",
    "print(f\"Variance reduction factor: {1/ratio_variances}\")\n",
    "print()\n",
    "print(f\"Correlation, rho: {corr}\")"
   ]
  },
  {
   "cell_type": "markdown",
   "id": "df76ea28",
   "metadata": {},
   "source": [
    "### Performance: Number of paths"
   ]
  },
  {
   "cell_type": "code",
   "execution_count": 26,
   "id": "caeefbb5",
   "metadata": {},
   "outputs": [],
   "source": [
    "from tqdm import tqdm"
   ]
  },
  {
   "cell_type": "code",
   "execution_count": 27,
   "id": "d764e12e",
   "metadata": {},
   "outputs": [
    {
     "name": "stderr",
     "output_type": "stream",
     "text": [
      "100%|████████████████████████████████████████████████████████████████████████████████| 100/100 [09:14<00:00,  5.55s/it]\n"
     ]
    }
   ],
   "source": [
    "# number of paths\n",
    "distr_diff_paths_CV = []\n",
    "var_ratios_paths_CV = []\n",
    "paths = np.linspace(10, 10000, 100, dtype=int)\n",
    "\n",
    "est_count = 30\n",
    "for path in tqdm(paths):   \n",
    "    distr, var_ratios = map(list,zip(*[Control_Variate_Arith_Asian_jit(T, K, r, S, sigma, path, M, N, analytical, returnall=2) for x in range(est_count)]))\n",
    "    distr_diff_paths_CV.append(distr)\n",
    "    var_ratios_paths_CV.append(var_ratios)"
   ]
  },
  {
   "cell_type": "code",
   "execution_count": 28,
   "id": "ba8dafa8",
   "metadata": {},
   "outputs": [],
   "source": [
    "#np.save('exp3_paths_distr.npy', distr_diff_paths_CV)\n",
    "#np.save('exp3_paths_var.npy', var_ratios_paths_CV)"
   ]
  },
  {
   "cell_type": "code",
   "execution_count": 29,
   "id": "a3707c98",
   "metadata": {},
   "outputs": [],
   "source": [
    "stderr_CV_pathlengths = []\n",
    "for distr in distr_diff_paths_CV:\n",
    "    std_error_CV = np.std(distr) / np.sqrt(est_count)\n",
    "    stderr_CV_pathlengths.append(std_error_CV)"
   ]
  },
  {
   "cell_type": "code",
   "execution_count": 32,
   "id": "062f428a",
   "metadata": {},
   "outputs": [],
   "source": [
    "CV_means = []\n",
    "CV_errors = []\n",
    "# Compute mean, confidence interval, and error\n",
    "for distr in distr_diff_paths_CV:\n",
    "    mean_CV = np.mean(distr)\n",
    "    CI = [np.mean(distr) - 1.96*np.std(distr)/np.sqrt(len(distr)), np.mean(distr) + 1.96*np.std(distr)/np.sqrt(len(distr))]\n",
    "    CV_error = 1.96*np.std(distr)/np.sqrt(len(distr))\n",
    "    \n",
    "    CV_means.append(mean_CV)\n",
    "    CV_errors.append(CV_error)"
   ]
  },
  {
   "cell_type": "code",
   "execution_count": 42,
   "id": "d56fdcd0",
   "metadata": {},
   "outputs": [
    {
     "data": {
      "image/png": "[encoded data removed]",
      "text/plain": [
       "<Figure size 720x720 with 2 Axes>"
      ]
     },
     "metadata": {
      "needs_background": "light"
     },
     "output_type": "display_data"
    }
   ],
   "source": [
    "fig, (ax1, ax2) = plt.subplots(1, 2, figsize = (10,10))\n",
    "\n",
    "# Sigma\n",
    "fig.sharex=True\n",
    "ax1.errorbar(paths, CV_means, yerr=CV_errors, ecolor='red', linewidth=2, elinewidth= 1, label=\"Estimate with CI\")\n",
    "ax1.set_title(\"Arithmetic Asian call option estimate for different path lengths\")\n",
    "ax1.set_ylabel(\"Option Price\")\n",
    "\n",
    "ax2.plot(paths, stderr_CV_pathlengths)\n",
    "ax2.set_ylabel(\"Standard error\")\n",
    "ax2.set_title(\"Standard error vs. MC path length\")\n",
    "ax1.set_xlabel(\"Number of iterations\")\n",
    "\n",
    "plt.show()"
   ]
  },
  {
   "cell_type": "markdown",
   "id": "858d6b6d",
   "metadata": {},
   "source": [
    "### Performance: Strike"
   ]
  },
  {
   "cell_type": "code",
   "execution_count": 47,
   "id": "dda3a435",
   "metadata": {},
   "outputs": [
    {
     "name": "stderr",
     "output_type": "stream",
     "text": [
      "100%|██████████████████████████████████████████████████████████████████████████████████| 12/12 [02:44<00:00, 13.73s/it]\n"
     ]
    }
   ],
   "source": [
    "# strike prices\n",
    "distr_diff_strikes_CV = []\n",
    "var_ratios_strikes_CV = []\n",
    "strikes = np.linspace(70, 130, 12, dtype=int)\n",
    "\n",
    "est_count = 30\n",
    "for strike in tqdm(strikes):   \n",
    "    distr, var_ratios = map(list,zip(*[Control_Variate_Arith_Asian(T, strike, r, S, sigma, trials, M, N, returnall=2) for x in range(est_count)]))\n",
    "    distr_diff_strikes_CV.append(distr)\n",
    "    var_ratios_strikes_CV.append(var_ratios)"
   ]
  },
  {
   "cell_type": "code",
   "execution_count": 49,
   "id": "23bd70c3",
   "metadata": {},
   "outputs": [],
   "source": [
    "#np.save('exp3_strike_distr.npy', distr_diff_strikes_CV)\n",
    "#np.save('exp3_strike_var.npy', var_ratios_strikes_CV)"
   ]
  },
  {
   "cell_type": "code",
   "execution_count": 78,
   "id": "5e74466f",
   "metadata": {},
   "outputs": [],
   "source": [
    "stderr_strikes = []\n",
    "for distr in distr_diff_strikes_CV:\n",
    "    \n",
    "    stderr = np.std(distr) / np.sqrt(len(distr_diff_strikes_CV))\n",
    "    stderr_strikes.append(stderr)"
   ]
  },
  {
   "cell_type": "code",
   "execution_count": 79,
   "id": "6302a787",
   "metadata": {},
   "outputs": [],
   "source": [
    "CV_means = []\n",
    "CV_errors = []\n",
    "# Compute mean, confidence interval, and error\n",
    "for distr in distr_diff_strikes_CV:\n",
    "    mean_CV = np.mean(distr)\n",
    "    CI = [np.mean(distr) - 1.96*np.std(distr)/np.sqrt(len(distr)), np.mean(distr) + 1.96*np.std(distr)/np.sqrt(len(distr))]\n",
    "    CV_error = 1.96*np.std(distr)/np.sqrt(len(distr))\n",
    "    \n",
    "    CV_means.append(mean_CV)\n",
    "    CV_errors.append(CV_error)"
   ]
  },
  {
   "cell_type": "code",
   "execution_count": 82,
   "id": "2f7a7b5e",
   "metadata": {},
   "outputs": [
    {
     "data": {
      "image/png": "[encoded data removed]",
      "text/plain": [
       "<Figure size 720x720 with 2 Axes>"
      ]
     },
     "metadata": {
      "needs_background": "light"
     },
     "output_type": "display_data"
    }
   ],
   "source": [
    "fig, (ax1, ax2) = plt.subplots(1, 2, figsize = (10,10))\n",
    "\n",
    "# Sigma\n",
    "ax1.errorbar(strikes, CV_means, yerr=CV_errors, ecolor='red', linewidth=2, elinewidth= 1, label=\"Estimate with CI\")\n",
    "ax1.set_title(\"Arithmetic Asian call option estimate for strikes\")\n",
    "ax1.set_ylabel(\"Option Price\")\n",
    "\n",
    "ax2.plot(strikes, stderr_strikes)\n",
    "ax2.set_ylabel(\"Standard error\")\n",
    "ax2.set_title(\"Standard error vs. Stike price\")\n",
    "ax1.set_xlabel(\"Strikes\")\n",
    "ax1.set_ylabel(\"Strikes\")\n",
    "\n",
    "plt.show()"
   ]
  },
  {
   "cell_type": "markdown",
   "id": "e417732d",
   "metadata": {},
   "source": [
    "### Performance: Number of time points used in the average"
   ]
  },
  {
   "cell_type": "code",
   "execution_count": 58,
   "id": "def273fc",
   "metadata": {},
   "outputs": [],
   "source": [
    "T = 1; K = 99; r = 0.06; S = 100; sigma = 0.2; trials = 10000; M = 1000; N=1000"
   ]
  },
  {
   "cell_type": "code",
   "execution_count": 61,
   "id": "266ad1ea",
   "metadata": {},
   "outputs": [],
   "source": [
    "# option 1:\n",
    "def Control_Variate_Arith_Asian(T, K, r, S, sigma, trials, M, N, days=M, returnall=None):\n",
    "    \n",
    "    # control number of time points (days) to average over\n",
    "    days_list = np.linspace(0, M-1, days, dtype=int)\n",
    "    \n",
    "    s_geo = np.zeros(trials)\n",
    "    s_ar = np.zeros(trials)\n",
    "    True_Asian_geo = Asian_Analytical(T, K, r, S, sigma, N)\n",
    "    \n",
    "    # Use one loop; if we use two separate GBMs, get high variance still\n",
    "    for i in range(trials):\n",
    "        \n",
    "        test = GBM_Euler(T, K, S, sigma, r, M)\n",
    "        s_geo[i] = np.max((0, geo_mean_overflow(test) - K))\n",
    "        \n",
    "        S_values = []\n",
    "        for j in days_list:\n",
    "            S_values.append(test[j])\n",
    "        s_ar[i] = np.max((0, ((1/len(days_list)) * sum(S_values)) - K))\n",
    "            \n",
    "\n",
    "    V_MC_geo = np.mean(s_geo)\n",
    "    var_geo = np.var(s_geo)\n",
    "    CI_geo = [np.mean(s_geo) - 1.96*np.std(s_geo)/np.sqrt(len(s_geo)), np.mean(s_geo) + 1.96*np.std(s_geo)/np.sqrt(len(s_geo))]\n",
    "    \n",
    "    V_MC_arith = np.mean(s_ar)\n",
    "    var_arith = np.var(s_ar)\n",
    "    CI_arith = [np.mean(s_ar) - 1.96*np.std(s_ar)/np.sqrt(len(s_ar)), np.mean(s_ar) + 1.96*np.std(s_ar)/np.sqrt(len(s_ar))]\n",
    "\n",
    "    # Compute optimal beta coefficient which minimizes the variance\n",
    "    beta = (np.std(s_ar) / np.std(s_geo)) * np.corrcoef(s_ar, s_geo)[1][0]\n",
    "\n",
    "    # Compute Control Variate estimate of arithmetic Asian call option\n",
    "    arith_CV_est = V_MC_arith - beta*(V_MC_geo - True_Asian_geo)\n",
    "         \n",
    "    \n",
    "    # Compute variance of CV estimate \n",
    "    # 1. alternative variance (use this one)\n",
    "    arith_CV_var = var_arith - 2*beta*np.std(s_geo)*np.std(s_ar)* np.corrcoef(s_ar, s_geo)[1][0] + (beta**2)*var_geo\n",
    "    \n",
    "#     # 2. original one we used (but turns negative sometimes)\n",
    "#     arith_CV_var_old = var_arith - ((np.cov((s_ar, s_geo))[1][0]**2 ) / var_geo)\n",
    "#     # 3. alternative variance \n",
    "#     arith_CV_var_alt2 = (1/trials) * (var_arith - ((np.cov((s_ar, s_geo))[1][0]**2 ) / var_geo))\n",
    "#     # 4. alternative variance, concsistent with nr 2.\n",
    "#     arith_CV_var_alt3 = (1-np.corrcoef(s_ar, s_geo)[1][0]**2)*var_arith\n",
    "    \n",
    "    # Compute ratio variance of optimally controlled estimator to that of uncontrolled\n",
    "#     ratio_variances = arith_CV_var / var_arith\n",
    "    ratio_variances = 1 - np.corrcoef(s_ar, s_geo)[1][0]**2\n",
    "\n",
    "    # Compute correlation coefficient\n",
    "    corr = np.corrcoef(s_ar, s_geo)[1][0]\n",
    "\n",
    "    if returnall is None:\n",
    "        return arith_CV_est, arith_CV_var, ratio_variances, corr, V_MC_geo, var_geo, V_MC_arith, var_arith\n",
    "    elif returnall == 1:\n",
    "        return arith_CV_est, V_MC_arith\n",
    "    elif returnall == 2:\n",
    "        return arith_CV_est, ratio_variances\n",
    "    elif returnall == 3:\n",
    "        return ratio_variances\n",
    "#     elif returnall ==4:\n",
    "#         return arith_CV_var, arith_CV_var_alt, arith_CV_var_alt2, arith_CV_var_alt3\n",
    "    return arith_CV_est\n",
    "\n"
   ]
  },
  {
   "cell_type": "code",
   "execution_count": 63,
   "id": "b5d20af3",
   "metadata": {},
   "outputs": [
    {
     "name": "stderr",
     "output_type": "stream",
     "text": [
      "100%|██████████████████████████████████████████████████████████████████████████████████| 10/10 [09:04<00:00, 54.42s/it]\n"
     ]
    }
   ],
   "source": [
    "# Different spacings to average the S over\n",
    "distr_diff_spacing_CV = []\n",
    "var_ratios_spacing_CV = []\n",
    "spacings = np.linspace(4, M, 10, dtype=int)\n",
    "\n",
    "est_count = 30\n",
    "for spacing in tqdm(spacings):   \n",
    "    distr, var_ratios = map(list,zip(*[Control_Variate_Arith_Asian(T, K, r, S, sigma, trials, M, N, spacing, returnall=2) for x in range(est_count)]))\n",
    "    distr_diff_spacing_CV.append(distr)\n",
    "    var_ratios_spacing_CV.append(var_ratios)"
   ]
  },
  {
   "cell_type": "code",
   "execution_count": 64,
   "id": "9448210b",
   "metadata": {},
   "outputs": [],
   "source": [
    "#np.save('exp3_space_distr.npy', distr_diff_spacing_CV)\n",
    "#np.save('exp3_space_var.npy', var_ratios_spacing_CV)"
   ]
  },
  {
   "cell_type": "code",
   "execution_count": 84,
   "id": "a9b82534",
   "metadata": {},
   "outputs": [],
   "source": [
    "stderr_space = []\n",
    "for distr in distr_diff_spacing_CV:\n",
    "    \n",
    "    stderr = np.std(distr) / np.sqrt(len(distr_diff_spacing_CV))\n",
    "    stderr_space.append(stderr)"
   ]
  },
  {
   "cell_type": "code",
   "execution_count": 85,
   "id": "ba781367",
   "metadata": {},
   "outputs": [],
   "source": [
    "CV_means = []\n",
    "CV_errors = []\n",
    "# Compute mean, confidence interval, and error\n",
    "for distr in distr_diff_spacing_CV:\n",
    "    mean_CV = np.mean(distr)\n",
    "    CI = [np.mean(distr) - 1.96*np.std(distr)/np.sqrt(len(distr)), np.mean(distr) + 1.96*np.std(distr)/np.sqrt(len(distr))]\n",
    "    CV_error = 1.96*np.std(distr)/np.sqrt(len(distr))\n",
    "    \n",
    "    CV_means.append(mean_CV)\n",
    "    CV_errors.append(CV_error)"
   ]
  },
  {
   "cell_type": "code",
   "execution_count": 86,
   "id": "46564b73",
   "metadata": {},
   "outputs": [
    {
     "data": {
      "image/png": "[encoded data removed]",
      "text/plain": [
       "<Figure size 720x720 with 2 Axes>"
      ]
     },
     "metadata": {
      "needs_background": "light"
     },
     "output_type": "display_data"
    }
   ],
   "source": [
    "fig, (ax1, ax2) = plt.subplots(1, 2, figsize = (10,10))\n",
    "\n",
    "# Sigma\n",
    "ax1.errorbar(spacings, CV_means, yerr=CV_errors, ecolor='red', linewidth=2, elinewidth= 1, label=\"Estimate with CI\")\n",
    "ax1.set_title(\"Arithmetic Asian call option estimate for spacings\")\n",
    "ax1.set_ylabel(\"Option Price\")\n",
    "\n",
    "ax2.plot(spacings, stderr_space)\n",
    "ax2.set_ylabel(\"Standard error\")\n",
    "ax2.set_title(\"Standard error vs. number of time points in sum\")\n",
    "ax1.set_xlabel(\"Number of time points used\")\n",
    "\n",
    "plt.show()"
   ]
  },
  {
   "cell_type": "code",
   "execution_count": null,
   "id": "ef483fd1",
   "metadata": {},
   "outputs": [],
   "source": []
  }
 ],
 "metadata": {
  "kernelspec": {
   "display_name": "Python 3",
   "language": "python",
   "name": "python3"
  },
  "language_info": {
   "codemirror_mode": {
    "name": "ipython",
    "version": 3
   },
   "file_extension": ".py",
   "mimetype": "text/x-python",
   "name": "python",
   "nbconvert_exporter": "python",
   "pygments_lexer": "ipython3",
   "version": "3.9.2"
  }
 },
 "nbformat": 4,
 "nbformat_minor": 5
}
