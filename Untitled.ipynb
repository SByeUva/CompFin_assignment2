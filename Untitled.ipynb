{
 "cells": [
  {
   "cell_type": "code",
   "execution_count": null,
   "id": "07696999",
   "metadata": {},
   "outputs": [],
   "source": [
    "def GBM_Euler(T, K, S, sigma, r, M, Z_all = None):\n",
    "    S_all = []\n",
    "    S_all.append(S)\n",
    "    dt = T/M\n",
    "    for i in range(M-1):\n",
    "        if Z_all:\n",
    "            Zm = Z_all[i]\n",
    "        else:\n",
    "            Zm = np.random.normal()\n",
    "        S_all.append(S_all[i] + r* S_all[i] * dt + sigma * S_all[i] * np.sqrt(dt) * Zm) \n",
    "    return S_all"
   ]
  },
  {
   "cell_type": "code",
   "execution_count": null,
   "id": "09b6b725",
   "metadata": {},
   "outputs": [],
   "source": [
    "s = np.zeros(trials)\n",
    "\n",
    "for i in range(trials):\n",
    "    test = GBM_Euler(T, K, S, sigma, r, M)\n",
    "    S_arith = (1/(len(test)) * np.sum(test)\n",
    "    s[i] = np.max(0, S_arith - K)\n",
    "               \n",
    "               \n",
    "    "
   ]
  },
  {
   "cell_type": "code",
   "execution_count": null,
   "id": "b1a0453f",
   "metadata": {},
   "outputs": [],
   "source": [
    "beta = (var_A / var_B) * corr\n",
    "CV_arith = MC_Arith - beta(MC_geo - true_geo)"
   ]
  }
 ],
 "metadata": {
  "kernelspec": {
   "display_name": "Python 3 (ipykernel)",
   "language": "python",
   "name": "python3"
  },
  "language_info": {
   "codemirror_mode": {
    "name": "ipython",
    "version": 3
   },
   "file_extension": ".py",
   "mimetype": "text/x-python",
   "name": "python",
   "nbconvert_exporter": "python",
   "pygments_lexer": "ipython3",
   "version": "3.8.12"
  }
 },
 "nbformat": 4,
 "nbformat_minor": 5
}
